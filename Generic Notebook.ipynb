{
 "cells": [
  {
   "cell_type": "code",
   "execution_count": 1,
   "metadata": {
    "ExecuteTime": {
     "end_time": "2020-05-10T22:06:02.392453Z",
     "start_time": "2020-05-10T22:06:01.749222Z"
    }
   },
   "outputs": [
    {
     "ename": "ModuleNotFoundError",
     "evalue": "No module named 'mayavi'",
     "output_type": "error",
     "traceback": [
      "\u001b[1;31m---------------------------------------------------------------------------\u001b[0m",
      "\u001b[1;31mModuleNotFoundError\u001b[0m                       Traceback (most recent call last)",
      "\u001b[1;32m~\\AppData\\Local\\Temp/ipykernel_12936/1941401268.py\u001b[0m in \u001b[0;36m<module>\u001b[1;34m\u001b[0m\n\u001b[0;32m     20\u001b[0m \u001b[1;32mimport\u001b[0m \u001b[0mmatplotlib\u001b[0m\u001b[1;33m.\u001b[0m\u001b[0mpyplot\u001b[0m \u001b[1;32mas\u001b[0m \u001b[0mplt\u001b[0m\u001b[1;33m\u001b[0m\u001b[1;33m\u001b[0m\u001b[0m\n\u001b[0;32m     21\u001b[0m \u001b[1;32mfrom\u001b[0m \u001b[0mmpl_toolkits\u001b[0m\u001b[1;33m.\u001b[0m\u001b[0mmplot3d\u001b[0m \u001b[1;32mimport\u001b[0m \u001b[0mAxes3D\u001b[0m\u001b[1;33m\u001b[0m\u001b[1;33m\u001b[0m\u001b[0m\n\u001b[1;32m---> 22\u001b[1;33m \u001b[1;32mimport\u001b[0m \u001b[0mmayavi\u001b[0m\u001b[1;33m.\u001b[0m\u001b[0mmlab\u001b[0m \u001b[1;32mas\u001b[0m \u001b[0mmlab\u001b[0m\u001b[1;33m\u001b[0m\u001b[1;33m\u001b[0m\u001b[0m\n\u001b[0m\u001b[0;32m     23\u001b[0m \u001b[1;32mfrom\u001b[0m \u001b[0mpylab\u001b[0m \u001b[1;32mimport\u001b[0m \u001b[1;33m*\u001b[0m\u001b[1;33m\u001b[0m\u001b[1;33m\u001b[0m\u001b[0m\n\u001b[0;32m     24\u001b[0m \u001b[1;33m\u001b[0m\u001b[0m\n",
      "\u001b[1;31mModuleNotFoundError\u001b[0m: No module named 'mayavi'"
     ]
    }
   ],
   "source": [
    "from __future__ import print_function, division, absolute_import\n",
    "#import mpmath as _mp\n",
    "import sys,os\n",
    "import datetime\n",
    "from time import time\n",
    "\n",
    "import math as m\n",
    "import numpy as np\n",
    "import numpy.linalg as la\n",
    "import scipy as sc\n",
    "import astropy as apy\n",
    "\n",
    "import csv\n",
    "import scipy\n",
    "from scipy.integrate import odeint\n",
    "\n",
    "from IPython.display import display, Math, Latex\n",
    "import matplotlib as mp\n",
    "import matplotlib.mlab as ml\n",
    "import matplotlib.pyplot as plt\n",
    "from mpl_toolkits.mplot3d import Axes3D\n",
    "import mayavi.mlab as mlab\n",
    "from pylab import *\n",
    "\n",
    "import cv2\n",
    "import pyopencl as cl\n",
    "\n",
    "from sympy.utilities.codegen import codegen\n",
    "from sympy import *\n",
    "import sympy as sp\n",
    "import sympy.physics.mechanics as me\n",
    "from sympy.abc import x,y,z\n",
    "from sympy import Rational, symbols\n",
    "from sympy.interactive import printing\n",
    "#import sage\n",
    "a, s, t, u, v, w, x, y, z = symbols(\"a, s, t, u, v, w, x, y, z\")\n",
    "k, m, n = symbols(\"k, m, n\", integer=True)\n",
    "f, g, h = symbols(\"f, g, h\", cls=Function)\n",
    "init_printing(use_latex=True, forerecolor='Red', fontsize='16pt') #  use_latex='mathjax'\n",
    "\n",
    "oldhook = sys.displayhook\n",
    "sys.displayhook = pprint\n",
    "# %load_ext sympyprinting\n",
    "# %reload_ext sympyprinting\n",
    "\n",
    "from IPython.display import FileLink, FileLinks\n",
    "FileLink('Part 1 - Running Code.ipynb')\n",
    "\n",
    "print(Latex(u'\\lambda'))"
   ]
  },
  {
   "cell_type": "code",
   "execution_count": null,
   "metadata": {
    "ExecuteTime": {
     "end_time": "2019-05-18T02:27:09.876119Z",
     "start_time": "2019-05-18T02:27:08.829242Z"
    }
   },
   "outputs": [],
   "source": [
    "from sympy import Rational\n",
    "from sympy.interactive import printing\n",
    "printing.init_printing(use_latex=True)\n",
    "import sympy as sym\n",
    "from sympy import *\n",
    "\n",
    "x,y,z=symbols(\"x y z\")\n",
    "\n",
    "M = symbols('M')\n",
    "I = symbols('I')\n",
    "\n",
    "Rational(3,2)*pi + exp(I*x) / (x**2 + y)"
   ]
  },
  {
   "cell_type": "code",
   "execution_count": null,
   "metadata": {
    "ExecuteTime": {
     "end_time": "2019-05-17T06:27:09.438839Z",
     "start_time": "2019-05-17T06:27:07.829458Z"
    }
   },
   "outputs": [],
   "source": [
    "import numpy as np\n",
    "import matplotlib\n",
    "import matplotlib.pyplot as plt\n",
    "\n",
    "vegetables = [\"cucumber\", \"tomato\", \"lettuce\", \"asparagus\", \"potato\", \"wheat\", \"barley\"]\n",
    "farmers = [\"Farmer Joe\", \"Upland Bros.\", \"Smith Gardening\", \"Agrifun\", \"Organiculture\", \"BioGoods Ltd.\", \"Cornylee Corp.\"]\n",
    "\n",
    "harvest = np.array([[0.8, 2.4, 2.5, 3.9, 0.0, 4.0, 0.0],\n",
    "                    [2.4, 0.0, 4.0, 1.0, 2.7, 0.0, 0.0],\n",
    "                    [1.1, 2.4, 0.8, 4.3, 1.9, 4.4, 0.0],\n",
    "                    [0.6, 0.0, 0.3, 0.0, 3.1, 0.0, 0.0],\n",
    "                    [0.7, 1.7, 0.6, 2.6, 2.2, 6.2, 0.0],\n",
    "                    [1.3, 1.2, 0.0, 0.0, 0.0, 3.2, 5.1],\n",
    "                    [0.1, 2.0, 0.0, 1.4, 0.0, 1.9, 6.3]])\n",
    "\n",
    "fig, ax = plt.subplots()\n",
    "im = ax.imshow(harvest)\n",
    "\n",
    "ax.set_xticks(np.arange(len(farmers)))\n",
    "ax.set_yticks(np.arange(len(vegetables)))\n",
    "ax.set_xticklabels(farmers)\n",
    "ax.set_yticklabels(vegetables)\n",
    "\n",
    "# Rotate the tick labels and set their alignment.\n",
    "plt.setp(ax.get_xticklabels(), rotation=45, ha=\"right\",\n",
    "         rotation_mode=\"anchor\")\n",
    "\n",
    "# Loop over data dimensions and create text annotations.\n",
    "for i in range(len(vegetables)):\n",
    "    for j in range(len(farmers)):\n",
    "        text = ax.text(j, i, harvest[i, j],\n",
    "                       ha=\"center\", va=\"center\", color=\"w\")\n",
    "\n",
    "ax.set_title(\"Harvest of local farmers (in tons/year)\")\n",
    "fig.tight_layout()\n",
    "plt.show()"
   ]
  },
  {
   "cell_type": "code",
   "execution_count": null,
   "metadata": {
    "ExecuteTime": {
     "end_time": "2019-05-17T05:37:07.317523Z",
     "start_time": "2019-05-17T05:37:06.020643Z"
    }
   },
   "outputs": [],
   "source": [
    "import numpy as np\n",
    "from sympy import Matrix\n",
    "\n",
    "bright_square = np.zeros((7, 7), dtype=float)\n",
    "bright_square[2:5, 2:5] = 1\n",
    "plt.imshow(bright_square);\n",
    "Matrix(bright_square)"
   ]
  },
  {
   "cell_type": "code",
   "execution_count": null,
   "metadata": {
    "ExecuteTime": {
     "end_time": "2019-05-17T05:37:09.895651Z",
     "start_time": "2019-05-17T05:37:07.473773Z"
    }
   },
   "outputs": [],
   "source": [
    "methods = [None, 'none', 'nearest', 'bilinear', 'bicubic', 'spline16',\n",
    "           'spline36', 'hanning', 'hamming', 'hermite', 'kaiser', 'quadric',\n",
    "           'catrom', 'gaussian', 'bessel', 'mitchell', 'sinc', 'lanczos']\n",
    "\n",
    "fig, axes = plt.subplots(3, 6, figsize=(12, 6),\n",
    "                         subplot_kw={'xticks': [], 'yticks': []})\n",
    "\n",
    "fig.subplots_adjust(hspace=0.3, wspace=0.05)\n",
    "\n",
    "for ax, interp_method in zip(axes.flat, methods):\n",
    "    ax.imshow(bright_square, interpolation=interp_method)\n",
    "    ax.set_title(interp_method)\n",
    "\n",
    "plt.show()"
   ]
  },
  {
   "cell_type": "code",
   "execution_count": 77,
   "metadata": {
    "ExecuteTime": {
     "end_time": "2019-05-18T03:03:43.804912Z",
     "start_time": "2019-05-18T03:03:42.117400Z"
    }
   },
   "outputs": [
    {
     "data": {
      "text/plain": [
       "<matplotlib.image.AxesImage at 0xbcce4b2be0>"
      ]
     },
     "execution_count": 77,
     "metadata": {},
     "output_type": "execute_result"
    },
    {
     "data": {
      "image/png": "[encoded data removed]",
      "text/plain": [
       "<Figure size 1152x720 with 4 Axes>"
      ]
     },
     "metadata": {
      "needs_background": "light"
     },
     "output_type": "display_data"
    }
   ],
   "source": [
    "import numpy as np\n",
    "from sympy import Matrix\n",
    "\n",
    "def rgb(x,y):\n",
    "    return (1/(2+x),1/(2+y),0, 1)\n",
    "\n",
    "def populate():\n",
    "    \"\"\"\n",
    "        v0 =>  x*16 > x, y*16 > y\n",
    "        v1 => (x+1)*16 > x, (y+1)*16>y\n",
    "    \"\"\"\n",
    "    squares = np.zeros((64, 64, 4), dtype=float)\n",
    "    \n",
    "    for y in range(4):\n",
    "        for x in range(4):\n",
    "            prex = x*16\n",
    "            prey = y*16\n",
    "            posx = (x+1)*16\n",
    "            posy = (y+1)*16\n",
    "            squares[ prey : posy, prex : posx] = rgb(x,y)\n",
    "    return squares\n",
    "\n",
    "squares = populate()\n",
    "fig = plt.figure(figsize=(16,10))\n",
    "ax= plt.subplot(1,4,1)\n",
    "plt.imshow(squares) #, interpolation='nearest')\n",
    "\n",
    "ax= plt.subplot(1,4,2)\n",
    "plt.imshow(squares) #, interpolation='nearest')\n",
    "\n",
    "ax= plt.subplot(1,4,3)\n",
    "plt.imshow(squares) #, interpolation='nearest')\n",
    "\n",
    "ax= plt.subplot(1,4,4)\n",
    "plt.imshow(squares) #, interpolation='nearest')"
   ]
  },
  {
   "cell_type": "code",
   "execution_count": null,
   "metadata": {
    "ExecuteTime": {
     "end_time": "2019-05-18T01:37:42.760937Z",
     "start_time": "2019-05-18T01:37:30.839020Z"
    }
   },
   "outputs": [],
   "source": [
    "import numpy as np\n",
    "import matplotlib.pyplot as plt\n",
    "plt.rcParams['animation.ffmpeg_path'] = 'c:/windows/system32/ffmpeg.exe'\n",
    "import matplotlib.animation as animation\n",
    "from IPython.display import HTML\n",
    "# animation.writers.list()\n",
    "\n",
    "fig = plt.figure()\n",
    "\n",
    "def f(x, y):\n",
    "    return np.sin(x) + np.cos(y)\n",
    "\n",
    "x = np.linspace(0, 2 * np.pi, 120)\n",
    "y = np.linspace(0, 2 * np.pi, 100).reshape(-1, 1)\n",
    "\n",
    "im = plt.imshow(f(x, y), animated=True)\n",
    "\n",
    "def updatefig(*args):\n",
    "    global x, y\n",
    "    x += np.pi / 15.\n",
    "    y += np.pi / 20.\n",
    "    im.set_array(f(x, y))\n",
    "    return im,\n",
    "\n",
    "ani = animation.FuncAnimation(fig, updatefig, interval=100, blit=True)\n",
    "\n",
    "plt.close(ani._fig)\n",
    "HTML(ani.to_html5_video())"
   ]
  },
  {
   "cell_type": "code",
   "execution_count": null,
   "metadata": {
    "ExecuteTime": {
     "end_time": "2019-05-17T03:12:55.844741Z",
     "start_time": "2019-05-17T03:12:55.047862Z"
    }
   },
   "outputs": [],
   "source": [
    "%pylab inline\n",
    "import matplotlib.pyplot as plt\n",
    "from mpl_toolkits.mplot3d import Axes3D\n",
    "import numpy as np\n",
    "\n",
    "fig = plt.figure(figsize=(12,6))\n",
    "\n",
    "steps = 7\n",
    "[x for x in np.arange(0, 2*np.pi, 2*np.pi / steps)]\n",
    "theta = np.linspace(-2 * np.pi, 2 * np.pi, steps)\n",
    "z = np.linspace(-0.5, -0.5, steps)\n",
    "r = z\n",
    "x = r * np.sin(theta)\n",
    "y = r * np.cos(theta)\n",
    "\n",
    "ax = fig.add_subplot(1,2,1, projection='3d')\n",
    "ax.plot(x, y, z, 'g*-', label='curve 3d')\n",
    "ax.view_init(30, 10)\n",
    "\n",
    "ax = fig.add_subplot(1,2,2, projection='3d')\n",
    "ax.plot(x, y, z, 'g*-', label='curve 3d')\n",
    "ax.view_init(75, 30)\n",
    "\n",
    "ax.legend()\n",
    "fig.tight_layout()\n",
    "plt.show()"
   ]
  },
  {
   "cell_type": "code",
   "execution_count": null,
   "metadata": {
    "ExecuteTime": {
     "end_time": "2019-05-18T02:27:25.907428Z",
     "start_time": "2019-05-18T02:27:24.329301Z"
    }
   },
   "outputs": [],
   "source": [
    "#!/usr/bin/env python\n",
    "# -*- coding: utf-8 -*-\n",
    "\n",
    "from __future__ import absolute_import, print_function\n",
    "import numpy as np\n",
    "import numpy.linalg as la\n",
    "import pyopencl as cl\n",
    "import datetime\n",
    "from time import time\n",
    "\n",
    "a_np = np.zeros(50).astype(np.int)\n",
    "b_np = np.ones(50).astype(np.int)\n",
    "\n",
    "info_np = np.zeros(10).astype(np.int)\n",
    "\n",
    "ctx = cl.create_some_context()\n",
    "queue = cl.CommandQueue(ctx)\n",
    "\n",
    "mf = cl.mem_flags\n",
    "a_g = cl.Buffer(ctx, mf.READ_ONLY | mf.COPY_HOST_PTR, hostbuf=a_np)\n",
    "b_g = cl.Buffer(ctx, mf.READ_ONLY | mf.COPY_HOST_PTR, hostbuf=b_np)\n",
    "\n",
    "prg = cl.Program(ctx, \"\"\"\n",
    "__kernel void sum(\n",
    "    __global const int *a_g, __global int *b_g, __global int *res_g, __global int *info)\n",
    "{\n",
    "  int gid = get_global_id(0);\n",
    "  \n",
    "  info[0] = get_global_size(0);\n",
    "  info[1]  = get_global_size(1);\n",
    "  info[2] = get_local_size(0);\n",
    "  info[3]  = get_local_size(1);\n",
    "  info[4]  = get_local_id(0);\n",
    "  info[5]  = get_local_id(1);\n",
    "  info[6]  = get_global_id(0);\n",
    "  info[7]  = get_global_id(1);\n",
    "  info[8]  = get_work_dim();\n",
    "  info[9]  = get_num_groups(0);\n",
    "  info[10]  = get_num_groups(1);\n",
    "  info[11]  = get_group_id(0);\n",
    "  \n",
    "  \n",
    "  //for (y=get_global_id(0); y<25; y+=get_global_size(0)){\n",
    "      //info[11] = info[11]+1;\n",
    "  //}\n",
    "  //res_g[gid] = a_g[gid] + get_global_id(0);\n",
    "    res_g[gid] = a_g[gid] + get_group_id(0);\n",
    "}\n",
    "\"\"\").build()\n",
    "\n",
    "res_g = cl.Buffer(ctx, mf.WRITE_ONLY, a_np.nbytes)\n",
    "info_g = cl.Buffer(ctx, mf.WRITE_ONLY, a_np.nbytes)\n",
    "\n",
    "start = time()\n",
    "prg.sum(queue, a_np.shape, None, a_g, b_g, res_g, info_g)\n",
    "\n",
    "res_np = np.empty_like(a_np)\n",
    "info = np.empty_like(a_np)\n",
    "\n",
    "cl.enqueue_copy(queue, res_np, res_g)\n",
    "cl.enqueue_copy(queue, info, info_g)\n",
    "\n",
    "# Check on CPU with Numpy:\n",
    "print(\"\\n a_np : \"+str(a_np))\n",
    "print(\"\\n b_np : \"+str(b_np))\n",
    "print(\"\\n res_np : \"+str(res_np))\n",
    "\n",
    "print(\"\\n Temp de traitement : \"+str(time()-start))\n",
    "print(\"----------------------------------------------\")\n",
    "print(\"get_global_size(0) [Nombre de thread] : \"+str(info[0]))\n",
    "print(\"get_global_size(1) : \"+str(info[1]) )\n",
    "print(\"get_local_size(0) : \"+str(info[2]) )\n",
    "print(\"get_local_size(1) : \"+str(info[3]) )\n",
    "print(\"get_local_id(0) : \"+str(info[4]) )\n",
    "print(\"get_local_id(1) : \"+str(info[5]) )\n",
    "print(\"get_global_id(0) [] : \"+str(info[6] ) )\n",
    "print(\"get_global_id(1) : \"+str(info[7]))\n",
    "print(\"get_work_dim() : \"+str(info[8]))\n",
    "print(\"get_num_groups(0) [Nombre de Work Group-(Coeur 0)] : \" +str(info[9]))\n",
    "print(\"get_num_groups(1) [Nombre de Work Group-(Coeur 1)] : \" +str(info[10]))\n",
    "print(\"get_group_id(0) : \" +str(info[11]))"
   ]
  },
  {
   "cell_type": "code",
   "execution_count": null,
   "metadata": {
    "ExecuteTime": {
     "end_time": "2019-05-17T02:42:03.924687Z",
     "start_time": "2019-05-17T02:42:03.127814Z"
    }
   },
   "outputs": [],
   "source": [
    "# Balancing reactions\n",
    "from chempy import Equilibrium\n",
    "from sympy import symbols\n",
    "K1, K2, Kw = symbols('K1 K2 Kw')\n",
    "e1 = Equilibrium({'MnO4-': 1, 'H+': 8, 'e-': 5}, {'Mn+2': 1, 'H2O': 4}, K1)\n",
    "e2 = Equilibrium({'O2': 1, 'H2O': 2, 'e-': 4}, {'OH-': 4}, K2)\n",
    "coeff = Equilibrium.eliminate([e1, e2], 'e-')\n",
    "redox = e1*coeff[0] + e2*coeff[1]\n",
    "autoprot = Equilibrium({'H2O': 1}, {'H+': 1, 'OH-': 1}, Kw)\n",
    "n = redox.cancel(autoprot)\n",
    "redox2 = redox + n*autoprot\n",
    "print(coeff)\n",
    "print(redox)\n",
    "print(n)\n",
    "print(redox2)"
   ]
  },
  {
   "cell_type": "code",
   "execution_count": null,
   "metadata": {
    "ExecuteTime": {
     "end_time": "2019-05-17T02:42:32.831001Z",
     "start_time": "2019-05-17T02:42:27.971618Z"
    }
   },
   "outputs": [],
   "source": [
    "from mendeleev import Si, Fe, O\n",
    "print(\"Si's name: \", Si.name)\n",
    "print(\"Fe's atomic number:\", Fe.atomic_number)\n",
    "print(\"O's atomic weight: \", O.atomic_weight)"
   ]
  },
  {
   "cell_type": "code",
   "execution_count": null,
   "metadata": {
    "ExecuteTime": {
     "end_time": "2019-05-17T02:56:11.180042Z",
     "start_time": "2019-05-17T02:55:11.398669Z"
    }
   },
   "outputs": [],
   "source": [
    "import pyEQL\n",
    "s1 = pyEQL.Solution([['Na+', '0.5 mol/L'], ['Cl-', '0.5 mol/L']], volume='2 L', temperature='15 degC', pH=6)\n",
    "print( s1.get_conductivity() )\n",
    "print( s1.get_alkalinity() )\n",
    "print( s1.get_dielectric_constant() )"
   ]
  },
  {
   "cell_type": "code",
   "execution_count": null,
   "metadata": {
    "ExecuteTime": {
     "end_time": "2019-05-17T03:14:02.016752Z",
     "start_time": "2019-05-17T03:13:57.954242Z"
    }
   },
   "outputs": [],
   "source": [
    "from shapely.geometry import Point\n",
    "patch = Point(0.0, 0.0).buffer(10.0)\n",
    "print( patch )\n",
    "print ( patch.area )\n",
    "donut = Point(0, 0).buffer(2.0).difference(Point(0, 0).buffer(1.0))\n",
    "print( donut.centroid.wkt)\n",
    "print( donut )"
   ]
  },
  {
   "cell_type": "code",
   "execution_count": 84,
   "metadata": {
    "ExecuteTime": {
     "end_time": "2019-05-18T06:00:43.467486Z",
     "start_time": "2019-05-18T05:58:11.674555Z"
    }
   },
   "outputs": [
    {
     "ename": "AttributeError",
     "evalue": "'op_solution' object has no attribute 'as_matrix'",
     "output_type": "error",
     "traceback": [
      "\u001b[1;31m---------------------------------------------------------------------------\u001b[0m",
      "\u001b[1;31mAttributeError\u001b[0m                            Traceback (most recent call last)",
      "\u001b[1;32m<ipython-input-84-e0e6991a1c2e>\u001b[0m in \u001b[0;36m<module>\u001b[1;34m\u001b[0m\n\u001b[0;32m     31\u001b[0m \u001b[1;33m\u001b[0m\u001b[0m\n\u001b[0;32m     32\u001b[0m \u001b[1;31m# modify the OP to give the circuit a little kick to start the oscillation\u001b[0m\u001b[1;33m\u001b[0m\u001b[1;33m\u001b[0m\u001b[0m\n\u001b[1;32m---> 33\u001b[1;33m \u001b[0mx0\u001b[0m \u001b[1;33m=\u001b[0m \u001b[0mres\u001b[0m\u001b[1;33m[\u001b[0m\u001b[1;34m'op'\u001b[0m\u001b[1;33m]\u001b[0m\u001b[1;33m.\u001b[0m\u001b[0mas_matrix\u001b[0m\u001b[1;33m(\u001b[0m\u001b[1;33m)\u001b[0m\u001b[1;33m\u001b[0m\u001b[0m\n\u001b[0m\u001b[0;32m     34\u001b[0m \u001b[0ml1vdei\u001b[0m \u001b[1;33m=\u001b[0m \u001b[0mosc\u001b[0m\u001b[1;33m.\u001b[0m\u001b[0mfind_vde_index\u001b[0m\u001b[1;33m(\u001b[0m\u001b[1;34m'l1'\u001b[0m\u001b[1;33m)\u001b[0m\u001b[1;33m\u001b[0m\u001b[0m\n\u001b[0;32m     35\u001b[0m \u001b[0ml1i\u001b[0m \u001b[1;33m=\u001b[0m \u001b[0mlen\u001b[0m\u001b[1;33m(\u001b[0m\u001b[0mosc\u001b[0m\u001b[1;33m.\u001b[0m\u001b[0mnodes_dict\u001b[0m\u001b[1;33m)\u001b[0m \u001b[1;33m-\u001b[0m \u001b[1;36m1\u001b[0m \u001b[1;33m+\u001b[0m \u001b[0ml1vdei\u001b[0m\u001b[1;33m\u001b[0m\u001b[0m\n",
      "\u001b[1;31mAttributeError\u001b[0m: 'op_solution' object has no attribute 'as_matrix'"
     ]
    }
   ],
   "source": [
    "import ahkab\n",
    "import pylab\n",
    "import numpy as np\n",
    "\n",
    "osc = ahkab.Circuit('MOS COLPITTS OSCILLATOR')\n",
    "\n",
    "# models need to be defined before the devices that use them\n",
    "osc.add_model('ekv', 'nmos', dict(TYPE='n', VTO=.4, KP=10e-6))\n",
    "\n",
    "osc.add_vsource('vdd', n1='dd', n2=osc.gnd, dc_value=3.3)\n",
    "\n",
    "# Ql = 33 at 3GHz\n",
    "osc.add_inductor('l1', n1='dd', n2='nd', value=5e-9, ic=-1e-9)\n",
    "osc.add_resistor('r0', n1='nd', n2='dd', value=3.5e3)\n",
    "\n",
    "# n = 0.5, f0 = 3GHz\n",
    "osc.add_capacitor('c1', n1='nd', n2='ns', value=1.12e-12)\n",
    "osc.add_capacitor('c2', n1='ns', n2=osc.gnd, value=1.12e-12)\n",
    "\n",
    "osc.add_mos('m1', nd='nd1', ng='bias', ns='ns', nb='ns',\n",
    "            model_label='nmos', w=600e-6, l=100e-9)\n",
    "# voltage source as a current probe\n",
    "osc.add_vsource('vtest', n1='nd', n2='nd1', dc_value=0)\n",
    "\n",
    "# Bias\n",
    "osc.add_vsource('vbias', n1='bias', n2=osc.gnd, dc_value=2.)\n",
    "osc.add_isource('ib', n1='ns', n2=osc.gnd, dc_value=1.3e-3)\n",
    "\n",
    "# calculate an Operating Point (OP) to initialize the transient analysis\n",
    "op = ahkab.new_op()\n",
    "res = ahkab.run(osc, op)\n",
    "\n",
    "# modify the OP to give the circuit a little kick to start the oscillation\n",
    "x0 = np.matrix(res['op'])\n",
    "l1vdei = osc.find_vde_index('l1')\n",
    "l1i = len(osc.nodes_dict) - 1 + l1vdei\n",
    "x0[l1i, 0] += -1e-9\n",
    "\n",
    "# Setup and run a transient analysis with the modified x0 as start point\n",
    "tran = ahkab.new_tran(tstart=0., tstop=20e-9, tstep=.01e-9, method='trap', x0=x0)\n",
    "res = ahkab.run(osc, tran)['tran']\n",
    "\n",
    "pylab.subplot(211)\n",
    "pylab.hold(True)\n",
    "pylab.plot(res.get_x(), res['vnd'], label='ND')\n",
    "pylab.plot(res.get_x(), res['vns'], label='NS')\n",
    "pylab.plot(res.get_x(), res['vbias'], label='BIAS')\n",
    "pylab.legend()\n",
    "pylab.subplot(212)\n",
    "pylab.plot(res.get_x(), res['i(vtest)'], label='I(VTEST)')\n",
    "pylab.legend()"
   ]
  },
  {
   "cell_type": "code",
   "execution_count": null,
   "metadata": {
    "ExecuteTime": {
     "end_time": "2019-05-18T02:27:40.516863Z",
     "start_time": "2019-05-18T02:27:40.485615Z"
    }
   },
   "outputs": [],
   "source": [
    "%%latex\n",
    "\\begin{align}\n",
    "\\newline\\newline\n",
    "Ohm's law \\newline\n",
    "I = \\frac{V}{R}\n",
    "\\newline\n",
    "V = IR\n",
    "\\newline\n",
    "R = V/I\n",
    "\n",
    "\\newline\\newline\n",
    "Electric Power \\newline\n",
    "W = VI\n",
    "\\newline\n",
    "W = \\frac{J}{s} = \\frac{N.m}{s} = \\frac{Kg.m^2}{s}\n",
    "\\newline\n",
    "J = W.s\n",
    "\\newline\n",
    "W.s = N.m\n",
    "\\newline\n",
    "N = \\frac{W.s}{M}\n",
    "\\newline\n",
    "\\end{align}"
   ]
  },
  {
   "cell_type": "code",
   "execution_count": 15,
   "metadata": {},
   "outputs": [
    {
     "name": "stdout",
     "output_type": "stream",
     "text": [
      "The cythonmagic extension is already loaded. To reload it, use:\n",
      "  %reload_ext cythonmagic\n"
     ]
    }
   ],
   "source": [
    "%load_ext cythonmagic\n",
    "# %%cython_inline\n",
    "# return a+b"
   ]
  },
  {
   "cell_type": "code",
   "execution_count": 16,
   "metadata": {
    "ExecuteTime": {
     "end_time": "2019-07-01T19:07:08.705278Z",
     "start_time": "2019-07-01T19:07:08.598275Z"
    }
   },
   "outputs": [
    {
     "ename": "SyntaxError",
     "evalue": "invalid syntax (Temp/ipykernel_12936/645498638.py, line 6)",
     "output_type": "error",
     "traceback": [
      "\u001b[1;36m  File \u001b[1;32m\"C:\\Users\\diego2\\AppData\\Local\\Temp/ipykernel_12936/645498638.py\"\u001b[1;36m, line \u001b[1;32m6\u001b[0m\n\u001b[1;33m    def double std_norm_cdf(double x) nogil:\u001b[0m\n\u001b[1;37m               ^\u001b[0m\n\u001b[1;31mSyntaxError\u001b[0m\u001b[1;31m:\u001b[0m invalid syntax\n"
     ]
    }
   ],
   "source": [
    "# %%cython -lm\n",
    "import cython\n",
    "from libc.math import exp, sqrt, pow, log, erf\n",
    "\n",
    "@cython.cdivision(True)\n",
    "def double std_norm_cdf(double x) nogil:\n",
    "    return 0.5*(1+erf(x/sqrt(2.0)))\n",
    "\n",
    "@cython.cdivision(True)\n",
    "def black_scholes(double s, double k, double t, double v,\n",
    "                 double rf, double div, double cp):\n",
    "    \"\"\"Price an option using the Black-Scholes model.\n",
    "    \n",
    "    s : initial stock price\n",
    "    k : strike price\n",
    "    t : expiration time\n",
    "    v : volatility\n",
    "    rf : risk-free rate\n",
    "    div : dividend\n",
    "    cp : +1/-1 for call/put\n",
    "    \"\"\"\n",
    "    cdef double d1, d2, optprice\n",
    "    with nogil:\n",
    "        d1 = (log(s/k)+(rf-div+0.5*pow(v,2))*t)/(v*sqrt(t))\n",
    "        d2 = d1 - v*sqrt(t)\n",
    "        optprice = cp*s*exp(-div*t)*std_norm_cdf(cp*d1) - \\\n",
    "            cp*k*exp(-rf*t)*std_norm_cdf(cp*d2)\n",
    "    return optprice\n",
    "%timeit black_scholes(100.0, 100.0, 1.0, 0.3, 0.03, 0.0, -1)"
   ]
  },
  {
   "cell_type": "code",
   "execution_count": null,
   "metadata": {
    "ExecuteTime": {
     "end_time": "2019-05-18T02:28:28.485789Z",
     "start_time": "2019-05-18T02:28:24.188898Z"
    }
   },
   "outputs": [],
   "source": [
    "from numba import double\n",
    "from numba.decorators import jit, autojit\n",
    "\n",
    "def pairwise_numpy(X):\n",
    "    return np.sqrt(((X[:, None, :] - X) ** 2).sum(-1))\n",
    "%timeit pairwise_numpy(X)\n",
    "\n",
    "def pairwise_python(X):\n",
    "    M = X.shape[0]\n",
    "    N = X.shape[1]\n",
    "    D = np.empty((M, M), dtype=np.float)\n",
    "    for i in range(M):\n",
    "        for j in range(M):\n",
    "            d = 0.0\n",
    "            for k in range(N):\n",
    "                tmp = X[i, k] - X[j, k]\n",
    "                d += tmp * tmp\n",
    "            D[i, j] = np.sqrt(d)\n",
    "    return D\n",
    "\n",
    "pairwise_numba = autojit(pairwise_python)\n",
    "\n",
    "%timeit pairwise_numba(X)"
   ]
  },
  {
   "cell_type": "code",
   "execution_count": null,
   "metadata": {
    "ExecuteTime": {
     "end_time": "2019-05-17T03:42:45.418222Z",
     "start_time": "2019-05-17T03:42:45.386973Z"
    }
   },
   "outputs": [],
   "source": [
    "%install_extension \"https://gist.githubusercontent.com/cjdrake/7982333/raw/89b6e068d9f440b3f851069004b2116686379afe/gvmagic.py\"\n",
    "%load_ext gvmagic"
   ]
  },
  {
   "cell_type": "code",
   "execution_count": 82,
   "metadata": {
    "ExecuteTime": {
     "end_time": "2019-05-18T05:38:50.654617Z",
     "start_time": "2019-05-18T05:38:50.467117Z"
    }
   },
   "outputs": [
    {
     "name": "stderr",
     "output_type": "stream",
     "text": [
      "d:\\binr\\python35\\lib\\site-packages\\IPython\\parallel.py:13: ShimWarning: The `IPython.parallel` package has been deprecated since IPython 4.0. You should import from ipyparallel instead.\n",
      "  \"You should import from ipyparallel instead.\", ShimWarning)\n"
     ]
    },
    {
     "ename": "OSError",
     "evalue": "You have attempted to connect to an IPython Cluster but no Controller could be found.\nPlease double-check your configuration and ensure that a cluster is running.",
     "output_type": "error",
     "traceback": [
      "\u001b[1;31m---------------------------------------------------------------------------\u001b[0m",
      "\u001b[1;31mOSError\u001b[0m                                   Traceback (most recent call last)",
      "\u001b[1;32m<ipython-input-82-5b4fc6396a64>\u001b[0m in \u001b[0;36m<module>\u001b[1;34m\u001b[0m\n\u001b[0;32m      1\u001b[0m \u001b[1;32mfrom\u001b[0m \u001b[0mIPython\u001b[0m\u001b[1;33m.\u001b[0m\u001b[0mparallel\u001b[0m \u001b[1;32mimport\u001b[0m \u001b[0mClient\u001b[0m\u001b[1;33m\u001b[0m\u001b[0m\n\u001b[1;32m----> 2\u001b[1;33m \u001b[0mrc\u001b[0m \u001b[1;33m=\u001b[0m \u001b[0mClient\u001b[0m\u001b[1;33m(\u001b[0m\u001b[0mprofile\u001b[0m\u001b[1;33m=\u001b[0m\u001b[1;34m'cluster'\u001b[0m\u001b[1;33m)\u001b[0m\u001b[1;33m\u001b[0m\u001b[0m\n\u001b[0m\u001b[0;32m      3\u001b[0m \u001b[0mrc\u001b[0m\u001b[1;33m.\u001b[0m\u001b[0mids\u001b[0m\u001b[1;33m\u001b[0m\u001b[0m\n\u001b[0;32m      4\u001b[0m \u001b[0mlview\u001b[0m \u001b[1;33m=\u001b[0m \u001b[0mrc\u001b[0m\u001b[1;33m.\u001b[0m\u001b[0mload_balanced_view\u001b[0m\u001b[1;33m(\u001b[0m\u001b[1;33m)\u001b[0m\u001b[1;33m\u001b[0m\u001b[0m\n\u001b[0;32m      5\u001b[0m \u001b[0mr\u001b[0m \u001b[1;33m=\u001b[0m \u001b[0mlview\u001b[0m\u001b[1;33m.\u001b[0m\u001b[0mmap_async\u001b[0m\u001b[1;33m(\u001b[0m\u001b[0msimulator\u001b[0m\u001b[1;33m,\u001b[0m \u001b[0mrange\u001b[0m\u001b[1;33m(\u001b[0m\u001b[1;36m10\u001b[0m\u001b[1;33m)\u001b[0m\u001b[1;33m)\u001b[0m\u001b[1;33m\u001b[0m\u001b[0m\n",
      "\u001b[1;32md:\\binr\\python35\\lib\\site-packages\\ipyparallel\\client\\client.py\u001b[0m in \u001b[0;36m__init__\u001b[1;34m(self, url_file, profile, profile_dir, ipython_dir, context, debug, sshserver, sshkey, password, paramiko, timeout, cluster_id, **extra_args)\u001b[0m\n\u001b[0;32m    413\u001b[0m                     \u001b[1;32mraise\u001b[0m \u001b[0mIOError\u001b[0m\u001b[1;33m(\u001b[0m\u001b[0mmsg\u001b[0m\u001b[1;33m)\u001b[0m\u001b[1;33m\u001b[0m\u001b[0m\n\u001b[0;32m    414\u001b[0m         \u001b[1;32mif\u001b[0m \u001b[0murl_file\u001b[0m \u001b[1;32mis\u001b[0m \u001b[1;32mNone\u001b[0m\u001b[1;33m:\u001b[0m\u001b[1;33m\u001b[0m\u001b[0m\n\u001b[1;32m--> 415\u001b[1;33m             \u001b[1;32mraise\u001b[0m \u001b[0mIOError\u001b[0m\u001b[1;33m(\u001b[0m\u001b[0mno_file_msg\u001b[0m\u001b[1;33m)\u001b[0m\u001b[1;33m\u001b[0m\u001b[0m\n\u001b[0m\u001b[0;32m    416\u001b[0m \u001b[1;33m\u001b[0m\u001b[0m\n\u001b[0;32m    417\u001b[0m         \u001b[1;32mif\u001b[0m \u001b[1;32mnot\u001b[0m \u001b[0mos\u001b[0m\u001b[1;33m.\u001b[0m\u001b[0mpath\u001b[0m\u001b[1;33m.\u001b[0m\u001b[0mexists\u001b[0m\u001b[1;33m(\u001b[0m\u001b[0murl_file\u001b[0m\u001b[1;33m)\u001b[0m\u001b[1;33m:\u001b[0m\u001b[1;33m\u001b[0m\u001b[0m\n",
      "\u001b[1;31mOSError\u001b[0m: You have attempted to connect to an IPython Cluster but no Controller could be found.\nPlease double-check your configuration and ensure that a cluster is running."
     ]
    }
   ],
   "source": [
    "from IPython.parallel import Client\n",
    "rc = Client(profile='cluster')\n",
    "rc.ids\n",
    "lview = rc.load_balanced_view()\n",
    "r = lview.map_async(simulator, range(10))\n",
    "\n",
    "# ----------------------------\n",
    "from IPython.parallel import Client\n",
    "c = Client()\n",
    "c.ids\n",
    "\n",
    "# ------------------------------\n",
    "from IPython.kernel import client\n",
    "mec = client.MultiEngineClient()\n",
    "del client\n",
    "mec.activate()\n",
    "mec.execute('from mpi4py import MPI')"
   ]
  },
  {
   "cell_type": "code",
   "execution_count": null,
   "metadata": {
    "ExecuteTime": {
     "end_time": "2019-05-18T02:38:49.012729Z",
     "start_time": "2019-05-18T02:38:48.934605Z"
    }
   },
   "outputs": [],
   "source": [
    "from IPython.display import display_pretty, display_html, display_jpeg, display_png, display_json, display_latex, display_svg\n",
    "from IPython.display import display, HTML, Image\n",
    "\n",
    "f = open(u\"D:\\DATASA\\CORE_GITHUB\\projects\\ElectronicsHTML\\FunctionGraphing.html\",'r')\n",
    "HTML(f.read())"
   ]
  },
  {
   "cell_type": "code",
   "execution_count": null,
   "metadata": {
    "ExecuteTime": {
     "end_time": "2019-05-17T03:45:49.006422Z",
     "start_time": "2019-05-17T03:45:48.975171Z"
    }
   },
   "outputs": [],
   "source": [
    "%install_ext http://raw.github.com/jrjohansson/ipython-circuitikz/master/circuitikz.py\n",
    "    \n",
    "%%circuitikz filename=squid dpi=125\n",
    "\n",
    "\\begin{circuitikz}[scale=1]\n",
    "\\draw ( 0, 0) [short, *-] node[anchor=south] {$\\Phi_J$} to (0, -1);\n",
    "\n",
    "% right\n",
    "\\draw ( 0, -1) to (2, -1) to node[anchor=west] {$\\Phi_{J}^2$} (2, -2) to (3, -2)\n",
    "               to [barrier, l=$E_J^2$] (3, -4) to (2, -4)to (2, -5) to (0, -5) node[ground] {};\n",
    "\\draw ( 2, -2) to (1, -2) to [capacitor, l=$C_J^2$] (1, -4) to (1, -4) to (2, -4);\n",
    "\n",
    "% left\n",
    "\\draw ( 0, -1) to (-2, -1) to node[anchor=west] {$\\Phi_{J}^1$} (-2, -2) to (-3, -2)\n",
    "               to [capacitor, l=$C_J^1$] (-3, -4) to (-2, -4)  to (-2, -5) to (0, -5); \n",
    "\\draw (-2, -2) to (-1, -2) to [barrier, l=$E_J^1$] (-1, -4) to (-1, -4) to (-2, -4);\n",
    "\\end{circuitikz}"
   ]
  },
  {
   "cell_type": "code",
   "execution_count": null,
   "metadata": {
    "ExecuteTime": {
     "end_time": "2019-05-17T05:23:07.382481Z",
     "start_time": "2019-05-17T05:22:18.616752Z"
    }
   },
   "outputs": [],
   "source": [
    "import nltk\n",
    "nltk.download('punkt')\n",
    "from nltk.tokenize import word_tokenize\n",
    "\n",
    "text = 'el perro blanco corre por la luna'\n",
    "print( word_tokenize(text))"
   ]
  },
  {
   "cell_type": "code",
   "execution_count": null,
   "metadata": {},
   "outputs": [],
   "source": [
    "# A minimal SQLite shell for experiments\n",
    "\n",
    "import sqlite3\n",
    "\n",
    "con = sqlite3.connect(\":memory:\")\n",
    "con.isolation_level = None\n",
    "cur = con.cursor()\n",
    "\n",
    "buffer = \"\"\n",
    "\n",
    "print \"Enter your SQL commands to execute in sqlite3.\"\n",
    "print \"Enter a blank line to exit.\"\n",
    "\n",
    "while True:\n",
    "    line = raw_input()\n",
    "    if line == \"\":\n",
    "        break\n",
    "    buffer += line\n",
    "    if sqlite3.complete_statement(buffer):\n",
    "        try:\n",
    "            buffer = buffer.strip()\n",
    "            cur.execute(buffer)\n",
    "\n",
    "            if buffer.lstrip().upper().startswith(\"SELECT\"):\n",
    "                print cur.fetchall()\n",
    "        except sqlite3.Error as e:\n",
    "            print \"An error occurred:\", e.args[0]\n",
    "        buffer = \"\"\n",
    "\n",
    "con.close()\n",
    "\n",
    "# ------------------------------------\n",
    "basedir = \"/Users\\diego2\\AppData\\Local\\Google\\Chrome/User Data/Default/\"\n",
    "\n",
    "file1 = basedir + \"History\"\n",
    "query1 = \"select * from keyword_search_terms\"\n",
    "\n",
    "query2 = \" select * from omni_box_shortcuts\" \n",
    "file2 = basedir + \"Shortcuts\"\n",
    "query3 = \"select * from logins\" \n",
    "file3 = basedir + \"Login Data\"\n",
    "\n",
    "import sqlite3\n",
    "connection = sqlite3.connect(file1,timeout=1)\n",
    "cursor = connection.cursor()\n",
    "cursor.execute(query1)\n",
    "for row in cursor:\n",
    "    print row\n",
    "    \n",
    "cursor.close()\n",
    "connection.close()\n",
    "\n",
    "# -------------------------------------\n",
    "# -*- coding: utf-8 -*-\n",
    "\"\"\"\n",
    "Created on Wed Jan 29 15:06:02 2014\n",
    "@author: Diego Cadogan\n",
    "@year: 2014\n",
    "\"\"\"\n",
    "import os, sqlite3\n",
    "import pprint\n",
    "\n",
    "mydir = 'e:/DIEGO/RESTORE/STORE/PROYECTOS'\n",
    "mydbfile = 'CISE_DB.db'\n",
    "fullpath = os.path.abspath(os.path.join(mydir,mydbfile))\n",
    "\n",
    "c = sqlite3.Connection(fullpath)\n",
    "cur =c.cursor()\n",
    "cur.execute(\"CREATE TABLE IF NOT EXISTS temp(id INTEGER)\")\n",
    "\n",
    "cur.execute(\"SELECT * from cise LIMIT 2\")\n",
    "data = cur.fetchall()\n",
    "pprint.pprint (data)\n",
    "c.commit()\n",
    "c.close()"
   ]
  },
  {
   "cell_type": "code",
   "execution_count": 81,
   "metadata": {
    "ExecuteTime": {
     "end_time": "2019-05-18T05:38:00.045055Z",
     "start_time": "2019-05-18T05:37:13.279257Z"
    }
   },
   "outputs": [],
   "source": [
    "import numpy\n",
    "import matplotlib.pyplot as plt\n",
    "import numpy as np\n",
    "import pylab as py\n",
    "from pylab import *\n",
    "\n",
    "import astropy.io.fits as fits\n",
    "#import pyfits\n",
    "\n",
    "target_url = 'https://dr15.sdss.org/sas/dr15/apogee/target/apogee2Object/apogee2Object_ORIONA-A.fits'\n",
    "\n",
    "hdulist= pyfits.open(target_url)\n",
    "hdu = hdulist[0]\n",
    "#print(hdulist.info())\n",
    "#print(hdu.header)\n",
    "\n",
    "#cube, header = pyfits.getdata(target_url, 0, header=True)\n",
    "#print(cube.shape)\n",
    "\n",
    "#Interactive on\n",
    "ion()\n",
    "# record2088 contains records information only\n",
    "hdu1 = hdulist[1].data\n",
    "c=0\n",
    "for a in hdu1.names:\n",
    "    c+=1    \n",
    "    if hdu1[a].dtype.name =='float32' and c<=4:\n",
    "        #print(c, hdu1[a].shape, a, hdu1[a])\n",
    "        fig=figure(facecolor='w', edgecolor='w', frameon=True, figsize=(18,6))\n",
    "        ax1 = plt.axes(frameon=True)\n",
    "        ax1.get_xaxis().tick_bottom()\n",
    "        ax1.axes.get_yaxis().set_visible(True)     # Hide y axis\n",
    "        ax1.axes.get_xaxis().set_visible(False)     # Hide x axis\n",
    "        plt.title('ORIONA-A')\n",
    "        plt.ylabel(\"\" + a + \" --- \" + str(c))\n",
    "        plt.plot(hdu1[a])\n",
    "        \n",
    "plt.show()"
   ]
  },
  {
   "cell_type": "code",
   "execution_count": null,
   "metadata": {},
   "outputs": [],
   "source": [
    "import plotly.plotly as py\n",
    "import numpy as np\n",
    "from plotly.graph_objs import *\n",
    "\n",
    "cls=[[0, 'rgb(0,0,131)'], [0.125, 'rgb(0,60,170)'], [0.375, 'rgb(5,255,255)'], [0.625, 'rgb(255,255,0)'], [0.875, 'rgb(250,0,0)'], [1, 'rgb(128,0,0)']]\n",
    "\n",
    "\n",
    "data = Data([ Surface( x=x, y=y, z=z, colorscale=cls ) ])\n",
    "\n",
    "layout = Layout(\n",
    "    title='waaaaves',\n",
    "    autosize=True,\n",
    "    scene=Scene( \n",
    "        zaxis=ZAxis(range=[-5, 5],domain=[-5, 5],autorange=False,nticks=10,gridcolor='rgb(255, 255, 255)',gridwidth=2,zerolinecolor='rgb(255, 255, 255)',zerolinewidth=2),\n",
    "        xaxis=XAxis(nticks=10,gridcolor='rgb(255, 255, 255)',gridwidth=2,zerolinecolor='rgb(255, 255, 255)',zerolinewidth=2),   \n",
    "        yaxis=YAxis(nticks=10,gridcolor='rgb(255, 255, 255)',gridwidth=2,zerolinecolor='rgb(255, 255, 255)',zerolinewidth=2),        \n",
    "        bgcolor=\"rgb(244, 244, 248)\"\n",
    "    )\n",
    ")\n",
    "\n",
    "fig = Figure(data=data, layout=layout)\n",
    "\n",
    "contours = { 'z':{ 'show':True } }\n",
    "fig['data'][0]['contours'] = contours\n",
    "\n",
    "# validate = False prevents syntax checking that would complain about the 2d contour hack (see above)\n",
    "py.iplot(fig, filename='waaaaves', validate=False)"
   ]
  },
  {
   "cell_type": "code",
   "execution_count": null,
   "metadata": {
    "ExecuteTime": {
     "end_time": "2019-05-17T04:03:52.749525Z",
     "start_time": "2019-05-17T04:03:51.015147Z"
    }
   },
   "outputs": [],
   "source": [
    "%pylab inline\n",
    "import cmath as mth\n",
    "import numpy as np\n",
    "import sympy as sy\n",
    "from sympy.interactive import printing\n",
    "from sympy.interactive import init_printing\n",
    "import matplotlib.pyplot as plt\n",
    "\n",
    "from IPython.display import display, Math, Latex\n",
    "init_printing(use_latex=True)\n",
    "\n",
    "t1 = np.linspace(0, 2 * np.pi, 13) \n",
    "t2 = np.linspace(0, 2*np.pi, 50)\n",
    "\n",
    "x1 = np.cos(t1)\n",
    "y1 = np.sin(t1)\n",
    "x2 = np.cos(t2)\n",
    "y2 = np.sin(t2)\n",
    "\n",
    "plt1 = plt.plot(x1,y1,'bo', label='tuple')\n",
    "plt2 = plt.plot(x2,y2,':k', label='vertex')\n",
    "plt.legend()\n",
    "plt.ylabel('Trigonal')\n",
    "plt.xlim(-2,2)\n",
    "plt.ylim(-2,2)\n",
    "#plt.axis('equal')\n",
    "plt.gca().set_aspect('equal', adjustable='box')\n",
    "plt.show()"
   ]
  },
  {
   "cell_type": "code",
   "execution_count": null,
   "metadata": {
    "ExecuteTime": {
     "end_time": "2019-05-17T04:05:31.843491Z",
     "start_time": "2019-05-17T04:05:31.765363Z"
    }
   },
   "outputs": [],
   "source": [
    "display(Math(r'Radius = \\sqrt{x^2 + y^2}' ))\n",
    "display(Math(r'Median = \\frac{X_1 + X_2}{2} + \\frac{Y_1 + Y_2}{2}' ))\n",
    "display(Math(r'dist = \\sqrt{ (X_2 - X_1)^2 + (Y_2 - Y_1)^2 }' ))"
   ]
  },
  {
   "cell_type": "code",
   "execution_count": null,
   "metadata": {
    "ExecuteTime": {
     "end_time": "2019-05-18T02:31:43.392763Z",
     "start_time": "2019-05-18T02:31:42.767757Z"
    }
   },
   "outputs": [],
   "source": [
    "def radius(x,y):\n",
    "    r = mth.sqrt(x**2+y**2)\n",
    "    return r\n",
    "\n",
    "def max_rad(x, y):\n",
    "    return max(x) - min(x), max(y) - min(y)\n",
    "\n",
    "def midpoint(A,B):\n",
    "    AMB = ( ( (A[0]+B[0])/2 ), (A[1]+B[1])/2 )\n",
    "    return AMB\n",
    "\n",
    "def distance(A,B):\n",
    "    d = mth.sqrt( (B[0] - A[0])**2 + (B[1] - A[1])**2 )\n",
    "    return d\n",
    "\n",
    "def semiperimeter(a,b,c):\n",
    "    # Semiperimeter of triangle\n",
    "    s = (a+b+c) / 2\n",
    "    return s\n",
    "\n",
    "def area(a,b,c):\n",
    "    # Area of triangle\n",
    "    A = np.sqrt(s* (s-a) * (s-b) * (s-c))\n",
    "    return A\n",
    "\n",
    "\n",
    "def myplot(_x,_y,_z):\n",
    "    # Notice vector elements are axis grouped, while vertex are not\n",
    "    size = 10\n",
    "    plt.xlim(-size,size)\n",
    "    plt.ylim(-size,size)\n",
    "    plt.gca().set_aspect('equal', adjustable='box')\n",
    "    plt.plot([_x[0],_y[0]],[_x[1],_y[1]],'--o', color='g', label='Vector')\n",
    "    plt.plot(_z[0],_z[1],'bo', color='r', label='Median')\n",
    "    #plt.axis('equal')\n",
    "    plt.show()\n",
    "    \n",
    "\n",
    "A = (-4, 7)\n",
    "B = (5, 4)\n",
    "M = midpoint(A,B)\n",
    "\n",
    "[(x, y) for x,y in zip(A,B)]\n",
    "\n",
    "# Definimos nuestro triangulo\n",
    "A = (-11, 7)\n",
    "B = (5, 11)\n",
    "C = (2,1)\n",
    "# Calculamos Vertices medios de segmentos\n",
    "AmB = midpoint(A,B)\n",
    "BmC = midpoint(B,C)\n",
    "CmA = midpoint(C,A)\n",
    "\n",
    "def myplot(A,B,C):\n",
    "    # Notice vector elements are axis grouped, while vertex are not\n",
    "    # Plot Edges\n",
    "    ab = midpoint(A,B)\n",
    "    bc = midpoint(B,C)\n",
    "    ca = midpoint(C,A)\n",
    "    plt.text(bc[0], bc[1]-1 ,r'$\\alpha$', size=18)\n",
    "    plt.plot([A[0],B[0]],[A[1],B[1]],'--', color='g', label='Edge A,B')\n",
    "    plt.text(ab[0], ab[1]+1 ,r'$\\gamma$', size=18)\n",
    "    plt.plot([A[0],C[0]],[A[1],C[1]],'--', color='g', label='Edge B,C')\n",
    "    plt.text(ca[0], ca[1]-1 ,r'$\\beta$', size=18)\n",
    "    plt.plot([C[0],B[0]],[C[1],B[1]],'--', color='g', label='Edge C,A')\n",
    "    \n",
    "    # Plot vertexes A0,B0,C0 - A1,B1,C1\n",
    "    plt.text(A[0], A[1]+.6 ,\"A\")\n",
    "    plt.text(B[0], B[1]+.6 ,\"B\")\n",
    "    plt.text(C[0]+.6, C[1]+.6 ,\"C\")\n",
    "    plt.plot([ A[0], B[0], C[0]], [A[1],B[1],C[1]],'bo', color='r', label='Vertex')\n",
    "    \n",
    "    # Plot medians\n",
    "    plt.text(AmB[0]+.6, AmB[1]-1 ,\"mid(A,B)\")\n",
    "    plt.plot(AmB[0],AmB[1],'bo', color='b', label='Median A-B')\n",
    "    plt.text(BmC[0]-1, BmC[1]+.6 ,\"mid(B,C)\")\n",
    "    plt.plot(BmC[0],BmC[1],'bo', color='b', label='Median B-C')\n",
    "    plt.text(CmA[0]+.6, CmA[1]+.6 ,\"mid(C,A)\")\n",
    "    plt.plot(CmA[0],CmA[1],'bo', color='b', label='Median C-A')\n",
    "    plt.axis('equal')\n",
    "    plt.show()\n",
    "    \n",
    "myplot(A,B,C)"
   ]
  },
  {
   "cell_type": "code",
   "execution_count": 19,
   "metadata": {
    "ExecuteTime": {
     "end_time": "2019-05-18T02:31:46.330269Z",
     "start_time": "2019-05-18T02:31:46.205276Z"
    }
   },
   "outputs": [
    {
     "data": {
      "text/latex": [
       "$\\displaystyle \\alpha = 0.927295.3$"
      ],
      "text/plain": [
       "<IPython.core.display.Math object>"
      ]
     },
     "metadata": {},
     "output_type": "display_data"
    },
    {
     "data": {
      "text/latex": [
       "$\\displaystyle \\beta  = 0.643501.3$"
      ],
      "text/plain": [
       "<IPython.core.display.Math object>"
      ]
     },
     "metadata": {},
     "output_type": "display_data"
    },
    {
     "data": {
      "text/latex": [
       "$\\displaystyle \\gamma = 1.570796.3$"
      ],
      "text/plain": [
       "<IPython.core.display.Math object>"
      ]
     },
     "metadata": {},
     "output_type": "display_data"
    },
    {
     "name": "stdout",
     "output_type": "stream",
     "text": [
      "Suma de angulos:  3.141592653589793\n"
     ]
    },
    {
     "data": {
      "text/plain": [
       "(True, False, True)"
      ]
     },
     "execution_count": 19,
     "metadata": {},
     "output_type": "execute_result"
    }
   ],
   "source": [
    "a = 60\n",
    "b = 45\n",
    "c = 180 - 60 - 45\n",
    "alpha = np.arccos( (b**2 + c**2 - a**2) / (2*b*c))\n",
    "beta = np.arccos( (a**2 + c**2 - b**2) / (2*a*c))\n",
    "gamma = np.arccos( (a**2 + b**2 - c**2) / (2*a*b))  # gamma = np.pi - alpha - beta\n",
    "\n",
    "display(Math(r'\\alpha = %f.3' % alpha))\n",
    "display(Math(r'\\beta  = %f.3' % beta))\n",
    "display(Math(r'\\gamma = %f.3' % gamma))\n",
    "#, beta, gamma, \n",
    "print('Suma de angulos: ',alpha + beta + gamma)\n",
    "\n",
    "alpha*180/np.pi + beta*180/np.pi + gamma*180/np.pi\n",
    "alpha + beta + gamma == np.pi\n",
    "\n",
    "# ley cosenos\n",
    "aa = c * np.sin(alpha) / np.sin(gamma)\n",
    "bb = c * np.sin(beta) / np.sin(gamma)\n",
    "cc = a * np.sin(gamma) / np.sin(alpha)\n",
    "a == aa, b == bb, c ==cc"
   ]
  },
  {
   "cell_type": "code",
   "execution_count": null,
   "metadata": {
    "ExecuteTime": {
     "end_time": "2019-05-17T04:40:07.910553Z",
     "start_time": "2019-05-17T04:40:07.785550Z"
    }
   },
   "outputs": [],
   "source": [
    "import alsaaudio, sys\n",
    "from numpy import arange        # like range, but supports floating point\n",
    "from math import pi, sin, e, tan\n",
    "import matplotlib.pyplot as plt\n",
    "\n",
    "#pi = Decimal(\"3.14159265358979323846264338327950288419716939937510\")\n",
    "\n",
    "channels = 1\n",
    "sample_size = 1                     # bytes per sample\n",
    "frame_size = channels * sample_size # bytes per frame\n",
    "frame_rate = 44100                   # frames per second\n",
    "byte_rate = frame_rate * frame_size # bytes per second\n",
    "# 1 second worth of data per pcm.write() call decrease if shorter notes are needed\n",
    "period_size = frame_rate\n",
    "pcm = alsaaudio.PCM(alsaaudio.PCM_PLAYBACK)\n",
    "pcm.setchannels(channels)\n",
    "pcm.setformat(alsaaudio.PCM_FORMAT_U8)\n",
    "\n",
    "def quantize(f):                # map (-1..1) -> [0..256)\n",
    "    return int((f+1)*127)       # depends on PCM format\n",
    "pcm.setrate(frame_rate)\n",
    "pcm.setperiodsize(period_size)\n",
    "\n",
    "def sine_wave(freq):\n",
    "    wave = [chr(quantize(sin(x))) * channels for x in arange(0, 2*pi, 2*pi / (frame_rate / freq))]\n",
    "    wave_data = \"\".join(wave)\n",
    "    (nwaves, extra_bytes) = divmod(period_size * frame_size, len(wave_data))\n",
    "    pcm.write((wave_data * nwaves) + wave_data[:extra_bytes])\n",
    "\n",
    "def ph_wave(freq):\n",
    "    wav = [quantize(sin(x)) * channels for x in arange(0, 2*pi, 2*pi / (frame_rate / freq))]\n",
    "    wave = []\n",
    "    for t in wav:\n",
    "        wave.append(\"\".join(chr(t)))\n",
    "\n",
    "    wave_data = \"\".join(wave)\n",
    "    (nwaves, extra_bytes) = divmod(period_size * frame_size, len(wave_data))\n",
    "    pcm.write((wave_data * nwaves) + wave_data[:extra_bytes])\n",
    "#    wave = [chr() * channels ]\n",
    "\n",
    "    fig = plt.figure()\n",
    "    ax1 = fig.add_subplot(211)\n",
    "    plt.title(r'$\\sigma_phi=440$', fontsize=16, color='black')\n",
    "    plt.ylabel(\"sine (x)\", fontsize=16, color='red')\n",
    "    plt.xlabel(\"seconds\", fontsize=12, color='green')\n",
    "    plt.ylim(-10, 256)\n",
    "    ax1.plot(wav)\n",
    "    ax1.grid(True)\n",
    "\n",
    "    ax2 = fig.add_subplot(212)\n",
    "    plt.ylabel(\"sine (x)\", fontsize=16, color='red')\n",
    "    plt.xlabel(\"seconds\", fontsize=12, color='green')\n",
    "    plt.ylim(-10, 256)\n",
    "    plt.xlim(0, 50)\n",
    "    ax2.plot(wav[75:100], 'ro')\n",
    "\n",
    "    plt.show()\n",
    "    fig.savefig('audio.png')\n",
    "\n",
    "ph_wave(440)\n",
    "\n",
    "x = np.linspace(0, 3*np.pi, 500)\n",
    "plt.plot(x, np.sin(x**2))\n",
    "plt.title('A simple chirp')\n",
    "plt.show()"
   ]
  },
  {
   "cell_type": "code",
   "execution_count": null,
   "metadata": {
    "ExecuteTime": {
     "end_time": "2019-05-17T04:51:39.821835Z",
     "start_time": "2019-05-17T04:51:39.759335Z"
    }
   },
   "outputs": [],
   "source": [
    "%pylab inline\n",
    "from __future__ import absolute_import\n",
    "from IPython.core.getipython import get_ipython\n",
    "from IPython.display import display, Math, Latex\n",
    "from IPython.core.magic import (Magics, magics_class,  cell_magic)\n",
    "\n",
    "import numpy as np\n",
    "import matplotlib.pyplot as plt\n",
    "\n",
    "from sympy import init_printing\n",
    "from sympy.abc import x,y,z\n",
    "from sympy import Rational, symbols, sin, pi, exp\n",
    "from sympy.interactive import printing\n",
    "\n",
    "init_printing(use_latex=True)\n",
    "@magics_class\n",
    "class MarkdownMagics(Magics):\n",
    " \n",
    "    @cell_magic\n",
    "    def asmarkdown(self, line, cell):\n",
    "        buffer = StringIO()\n",
    "        stdout = sys.stdout\n",
    "        sys.stdout = buffer\n",
    "        try:\n",
    "            exec(cell, locals(), self.shell.user_ns)\n",
    "        except:\n",
    "            sys.stdout = stdout\n",
    "            raise\n",
    "        sys.stdout = stdout\n",
    "        return buffer.getvalue() + 'test'\n",
    " \n",
    "get_ipython().register_magics(MarkdownMagics)"
   ]
  },
  {
   "cell_type": "code",
   "execution_count": null,
   "metadata": {
    "ExecuteTime": {
     "end_time": "2019-05-17T04:57:26.947578Z",
     "start_time": "2019-05-17T04:57:26.853825Z"
    }
   },
   "outputs": [],
   "source": [
    "from __future__ import absolute_import\n",
    "from IPython.core.getipython import get_ipython\n",
    "from IPython.display import display, Math, Latex\n",
    "from IPython.core.magic import (Magics, magics_class,  cell_magic)\n",
    "\n",
    "import numpy as np\n",
    "import matplotlib.pyplot as plt\n",
    "\n",
    "from sympy import init_printing\n",
    "from sympy.abc import x,y,z\n",
    "from sympy import Rational, symbols, sin, pi, exp\n",
    "from sympy.interactive import printing\n",
    "\n",
    "ϕ,x= symbols(\"phi x\")\n",
    "f = exp(-(-ϕ(x)))\n",
    "f"
   ]
  },
  {
   "cell_type": "code",
   "execution_count": null,
   "metadata": {
    "ExecuteTime": {
     "end_time": "2019-05-17T05:29:15.648895Z",
     "start_time": "2019-05-17T05:28:59.445739Z"
    }
   },
   "outputs": [],
   "source": [
    "%pylab inline\n",
    "import numpy as np\n",
    "import sympy as sy\n",
    "import math,csv\n",
    "import numpy as np\n",
    "from mayavi import mlab\n",
    "import scipy\n",
    "import os\n",
    "\n",
    "p = u'D:/DATASA/Templates/CORE_PYTHON/COMPLEX/head_normalization'\n",
    "objfile = os.path.join(p, 'head.obj')    \n",
    "coords=np.loadtxt(objfile, delimiter=' ',usecols=(1,2,3), unpack=True)\n",
    "x, y, z = (coords)\n",
    "\n",
    "mlab.points3d(x,y,z, resolution=3, scale_factor=.2, line_width=1, color=(1, 0, 0))\n",
    "mlab.show()"
   ]
  },
  {
   "cell_type": "code",
   "execution_count": null,
   "metadata": {
    "ExecuteTime": {
     "end_time": "2019-05-17T05:31:21.914792Z",
     "start_time": "2019-05-17T05:30:54.195983Z"
    }
   },
   "outputs": [],
   "source": [
    "import numpy\n",
    "from mayavi.mlab import *\n",
    "\n",
    "def test_mesh():\n",
    "    \"\"\"A very pretty picture of spherical harmonics translated from\n",
    "    the octaviz example.\"\"\"\n",
    "    pi = np.pi\n",
    "    cos = np.cos\n",
    "    sin = np.sin\n",
    "    dphi, dtheta = pi / 250.0, pi / 250.0\n",
    "    [phi, theta] = np.mgrid[0:pi + dphi * 1.5:dphi,\n",
    "                            0:2 * pi + dtheta * 1.5:dtheta]\n",
    "    m0 = 4\n",
    "    m1 = 3\n",
    "    m2 = 2\n",
    "    m3 = 3\n",
    "    m4 = 6\n",
    "    m5 = 2\n",
    "    m6 = 6\n",
    "    m7 = 4\n",
    "    r = sin(m0 * phi) ** m1 + cos(m2 * phi) ** m3 + \\\n",
    "        sin(m4 * theta) ** m5 + cos(m6 * theta) ** m7\n",
    "    x = r * sin(phi) * cos(theta)\n",
    "    y = r * cos(phi)\n",
    "    z = r * sin(phi) * sin(theta)\n",
    "\n",
    "    return mesh(x, y, z, colormap=\"bone\")\n",
    "test_mesh()\n",
    "show()"
   ]
  },
  {
   "cell_type": "code",
   "execution_count": null,
   "metadata": {
    "ExecuteTime": {
     "end_time": "2019-05-17T05:11:47.730995Z",
     "start_time": "2019-05-17T05:09:42.418227Z"
    }
   },
   "outputs": [],
   "source": [
    "from vpython import *\n",
    "\n",
    "# Gyroscope sitting on a pedestal\n",
    "\n",
    "# The analysis is in terms of Lagrangian mechanics.\n",
    "# The Lagrangian variables are polar angle theta,\n",
    "# azimuthal angle phi, and spin angle psi.\n",
    "\n",
    "scene.width = 800\n",
    "scene.height = 600\n",
    "scene.range = 1.2\n",
    "scene.title = \"A precessing, nutating gyroscope\"\n",
    "\n",
    "Lshaft = 1 # length of gyroscope shaft\n",
    "r = Lshaft/2 # distance from support to center of mass\n",
    "Rshaft = 0.03 # radius of gyroscope shaft\n",
    "M = 1 # mass of gyroscope (massless shaft)\n",
    "Rrotor = 0.4 # radius of gyroscope rotor\n",
    "Drotor = 0.1 # thickness of gyroscope rotor\n",
    "I3 = 0.5*M*Rrotor**2 # moment of inertia of gyroscope about its own axis\n",
    "I1 = M*r**2 + .5*I3 # moment of inertia about a line through the support, perpendicular to the axis\n",
    "hpedestal = Lshaft # height of pedestal\n",
    "wpedestal = 0.1 # width of pedestal\n",
    "tbase = 0.05 # thickness of base\n",
    "wbase = 3*wpedestal # width of base\n",
    "g = 9.8\n",
    "Fgrav = vector(0,-M*g,0)\n",
    "top = vector(0,0,0) # top of pedestal\n",
    "\n",
    "shaft = cylinder(length=Lshaft, radius=Rshaft, color=color.orange)\n",
    "rotor = cylinder(pos=vector(Lshaft/2-Drotor/2,0,0), axis=vector(Drotor, 0, 0),\n",
    "                 radius=Rrotor, color=color.gray(0.9))\n",
    "base = sphere(color=shaft.color, radius=Rshaft)\n",
    "end = sphere(pos=vector(Lshaft,0,0), color=shaft.color, radius=Rshaft)\n",
    "gyro = compound([shaft, rotor, base, end])\n",
    "gyro_center = gyro.pos\n",
    "gyro.texture = textures.metal\n",
    "tip = sphere(pos=shaft.axis, radius=shaft.radius/2,  make_trail=True, retain=250)\n",
    "tip.trail_color = color.green\n",
    "tip.trail_radius = 0.15*Rshaft\n",
    "\n",
    "pedestal = box(pos=top-vector(0,hpedestal/2+shaft.radius/2,0), \n",
    "               height=hpedestal-shaft.radius, length=wpedestal, width=wpedestal, texture=textures.wood)\n",
    "pedestal_base = box(pos=top-vector(0,hpedestal+tbase/2,0), \n",
    "                    height=tbase, length=wbase, width=wbase, texture=textures.wood)\n",
    "\n",
    "theta = 0\n",
    "thetadot = 0\n",
    "psi = 0\n",
    "psidot = 0\n",
    "phi = 0\n",
    "phidot = 0\n",
    "pureprecession = False\n",
    "\n",
    "def reset():\n",
    "    global theta, thetadot, psi, psidot, phi, phidot\n",
    "    theta = 0.3*pi # initial polar angle of shaft (from vertical)\n",
    "    thetadot = 0 # initial rate of change of polar angle\n",
    "    psi = 0 # initial spin angle\n",
    "    psidot = 30 # initial rate of change of spin angle (spin ang. velocity)\n",
    "    phi = -pi/2 # initial azimuthal angle\n",
    "    phidot = 0 # initial rate of change of azimuthal angle\n",
    "    if pureprecession: # Set to True if you want pure precession, without nutation\n",
    "        a = (1-I3/I1)*sin(theta)*cos(theta)\n",
    "        b = -(I3/I1)*psidot*sin(theta)\n",
    "        c = M*g*r*sin(theta)/I1\n",
    "        phidot = (-b+sqrt(b**2-4*a*c))/(2*a)\n",
    "    gyro.axis = gyro.length*vector(sin(theta)*sin(phi),cos(theta),sin(theta)*cos(phi))\n",
    "    A = norm(gyro.axis)\n",
    "    gyro.pos = 0.5*Lshaft*A\n",
    "    tip.pos = Lshaft*A\n",
    "    tip.clear_trail()\n",
    "\n",
    "reset()\n",
    "#scene.waitfor('textures') # not yet implemented\n",
    "\n",
    "dt = 0.0001\n",
    "t = 0\n",
    "Nsteps = 20 # number of calculational steps between graphics updates\n",
    "\n",
    "while True:\n",
    "    rate(200)\n",
    "    for step in range(Nsteps): # multiple calculation steps for accuracy\n",
    "        # Calculate accelerations of the Lagrangian coordinates:\n",
    "        atheta = sin(theta)*cos(theta)*phidot**2+( M*g*r*sin(theta)-I3*(psidot+phidot*cos(theta))*phidot*sin(theta))/I1\n",
    "        aphi = (I3/I1)*(psidot+phidot*cos(theta))*thetadot/sin(theta)-2*cos(theta)*thetadot*phidot/sin(theta)\n",
    "        apsi = phidot*thetadot*sin(theta)-aphi*cos(theta)\n",
    "        # Update velocities of the Lagrangian coordinates:\n",
    "        thetadot += atheta*dt\n",
    "        phidot += aphi*dt\n",
    "        psidot += apsi*dt\n",
    "        # Update Lagrangian coordinates:\n",
    "        theta += thetadot*dt\n",
    "        phi += phidot*dt\n",
    "        psi += psidot*dt\n",
    "\n",
    "    gyro.axis = gyro.length*vector(sin(theta)*sin(phi),cos(theta),sin(theta)*cos(phi))\n",
    "    # Display approximate rotation of rotor and shaft:\n",
    "    gyro.rotate(angle=psidot*dt*Nsteps)\n",
    "    A = norm(gyro.axis)\n",
    "    gyro.pos = 0.5*Lshaft*A\n",
    "    tip.pos = Lshaft*A\n",
    "    t = t+dt*Nsteps"
   ]
  },
  {
   "cell_type": "code",
   "execution_count": null,
   "metadata": {
    "ExecuteTime": {
     "end_time": "2019-05-17T05:14:42.333292Z",
     "start_time": "2019-05-17T05:14:37.552029Z"
    }
   },
   "outputs": [],
   "source": [
    "import tweepy\n",
    "from tweepy import OAuthHandler\n",
    "import urllib3\n",
    "urllib3.disable_warnings()\n",
    "\n",
    "consumer_key = 'McdUGJsYlFA2GkxCEHWuVA'\n",
    "consumer_secret = 'BPD2hTOAKlSjC83Sl5APOcn6SgQyrtqtN0TNsUjpI'\n",
    "access_token = '201810937-5uEPH6aG69oWros1L9QupNa4yK9oxEc87iG9Qxk7'\n",
    "access_secret = 'VMiFdj6bCiSzPqaY72qxQluO3kOXRtDPvcxXAWrew'\n",
    " \n",
    "auth = OAuthHandler(consumer_key, consumer_secret)\n",
    "auth.set_access_token(access_token, access_secret)\n",
    " \n",
    "api = tweepy.API(auth)\n",
    "\n",
    "for status in tweepy.Cursor(api.home_timeline).items(50):\n",
    "    # Process a single status\n",
    "    print(status.text) \n",
    "    pass\n",
    "\n",
    "import json\n",
    " \n",
    "@classmethod\n",
    "def parse(cls, api, raw):\n",
    "    status = cls.first_parse(api, raw)\n",
    "    setattr(status, 'json', json.dumps(raw))\n",
    "    return status\n",
    " \n",
    "# Status() is the data model for a tweet\n",
    "tweepy.models.Status.first_parse = tweepy.models.Status.parse\n",
    "tweepy.models.Status.parse = parse\n",
    "# User() is the data model for a user profil\n",
    "tweepy.models.User.first_parse = tweepy.models.User.parse\n",
    "tweepy.models.User.parse = parse\n",
    "# You need to do it for all the models you need\n",
    "\n",
    "for status in tweepy.Cursor(api.home_timeline).items(10):\n",
    "    # Process a single status\n",
    "    process_or_store(status.json) \n",
    "for friend in tweepy.Cursor(api.friends).items():\n",
    "    process_or_store(friend.json)\n",
    "    \n",
    "    "
   ]
  },
  {
   "cell_type": "code",
   "execution_count": null,
   "metadata": {
    "ExecuteTime": {
     "start_time": "2019-05-17T05:16:41.771Z"
    }
   },
   "outputs": [],
   "source": [
    "from tweepy import Stream\n",
    "from tweepy.streaming import StreamListener\n",
    " \n",
    "class MyListener(StreamListener):\n",
    " \n",
    "    def on_data(self, data):\n",
    "        try:\n",
    "            with open('python.json', 'a') as f:\n",
    "                f.write(data)\n",
    "                return True\n",
    "        except BaseException as e:\n",
    "            print(\"Error on_data: %s\" % str(e))\n",
    "        return True\n",
    " \n",
    "    def on_error(self, status):\n",
    "        print(status)\n",
    "        return True\n",
    " \n",
    "twitter_stream = Stream(auth, MyListener())\n",
    "twitter_stream.filter(track=['#python'])"
   ]
  },
  {
   "cell_type": "code",
   "execution_count": 206,
   "metadata": {
    "ExecuteTime": {
     "end_time": "2019-05-23T00:05:59.816554Z",
     "start_time": "2019-05-23T00:05:51.535274Z"
    }
   },
   "outputs": [
    {
     "data": {
      "text/plain": [
       "b'\\r\\n > sh \\r\\necho $PS1 \\r\\n\\r\\n\\r\\nBusyBox v1.00 (2013.11.1'"
      ]
     },
     "metadata": {},
     "output_type": "display_data"
    },
    {
     "data": {
      "text/plain": [
       "'Connection dropped'"
      ]
     },
     "metadata": {},
     "output_type": "display_data"
    }
   ],
   "source": [
    "import getpass\n",
    "import telnetlib\n",
    "from time import sleep\n",
    "import sys\n",
    "\n",
    "host = \"192.168.1.1\"\n",
    "user = b\"admin\"\n",
    "password = b\"123456!\"\n",
    "\n",
    "class mytelnet(object):\n",
    "    def __init__(self):\n",
    "        self.tn = None\n",
    "        self.x = lambda: self.tn.read_eager() # read_all()\n",
    "        self.tn = telnetlib.Telnet(host)\n",
    "        \n",
    "        self.tn.read_until(b\"Login: \", timeout=10)\n",
    "        self.tn.write(user + b\"\\n\")\n",
    "        self.tn.read_until(b\"Password: \", timeout=10)\n",
    "        self.tn.write(password + b\"\\n\")\n",
    "        sleep(1)\n",
    "        self.tn.write(b\"sh \\n\")\n",
    "        self.tn.write(b\"echo $PS1 \\n\")\n",
    "        sleep(1)\n",
    "        self.tn.write(b\"killall httpd \\n\")\n",
    "        sleep(1)\n",
    "        self.tn.write(b\"killall -9 syslogd \\n\")\n",
    "        self.tn.write(b\"killall -9 klogd \\n\")\n",
    "        self.tn.write(b\"/bin/klogd \\n\")\n",
    "        #self.tn.write(b\"/bin/syslogd \\n\")\n",
    "        sleep(1)\n",
    "        self.tn.write(b\"killall -9 tr69c \\n\")\n",
    "        sleep(1)\n",
    "        self.tn.write(b\"killall -9 dsldiagd \\n\")\n",
    "        sleep(1)\n",
    "        self.tn.write(b\"killall -9 smbd \\n\")\n",
    "        sleep(1)\n",
    "        self.tn.write(b\"killall -9 mcpd \\n\")\n",
    "        self.tn.write(b\"/sbin/reboot \\n\")\n",
    "        #self.tn.write(b\"/sbin/reboot \\n\")\n",
    "        #self.tn.write(b\"/sbin/klogd \\n\")\n",
    "        #self.tn.write(b\"/bin/dmesg \\n\")\n",
    "        #self.tn.write(b\"/bin/sysinfo \\n\")\n",
    "        #self.tn.write(b\"/bin/iptables -L \\n\")\n",
    "        #self.tn.write(b\"/bin/ebtables -L \\n\")\n",
    "        #self.tn.write(b\"/bin/cat /proc/filesystems \\n\")\n",
    "        #self.tn.write(b\"/bin/cat /proc/cpuinfo \\n\")\n",
    "        #self.tn.write(b\"/bin/cat /proc/meminfo \\n\")\n",
    "        #self.tn.write(b\"/bin/cat /proc/vmstat \\n\")\n",
    "        #self.tn.write(b\"/bin/cat /proc/uptime \\n\")\n",
    "        #self.tn.write(b\"/bin/cat /proc/kmsg \\n\")\n",
    "        #self.tn.write(b\"/bin/cat /proc/version \\n\")\n",
    "        #self.tn.write(b\"ls / \\n\")\n",
    "        #self.tn.write(b\"/bin/ps aux \\n\")\n",
    "        sleep(1)\n",
    "        self.tn.write(b\"exit\\n\")\n",
    "        self.read_early() \n",
    "        self.tn.close()\n",
    "        \"\"\"\n",
    "        try:\n",
    "            pass\n",
    "        except(BaseException, e):\n",
    "            print('no telnet', e)            \n",
    "        except(EOFError, e):\n",
    "            print('Connection dropped', e)            \n",
    "        finally:\n",
    "            log = True\n",
    "        \"\"\"\n",
    "    \n",
    "    def login(self):\n",
    "        return self.tn\n",
    "\n",
    "    def read_early(self):\n",
    "        r = b''\n",
    "        a = ''\n",
    "        p = []\n",
    "        print(self.x())\n",
    "        p.append(self.x())\n",
    "        while self.x(): p.append(self.x())\n",
    "        for q in p: r = r + q\n",
    "        for q in r: a+=chr(q)\n",
    "        z = a.replace(u'\\n', '').split(u'\\r')\n",
    "\n",
    "        for zz in z: print (zz)\n",
    "\n",
    "\n",
    "#read_early()\n",
    "try:            \n",
    "    mytel = mytelnet()\n",
    "    tn = mytel.login()\n",
    "    tn.close()\n",
    "except:\n",
    "    print('Connection dropped')\n",
    "finally:\n",
    "    log = True\n"
   ]
  },
  {
   "cell_type": "code",
   "execution_count": null,
   "metadata": {},
   "outputs": [],
   "source": []
  }
 ],
 "metadata": {
  "kernelspec": {
   "display_name": "Python 3 (ipykernel)",
   "language": "python",
   "name": "python3"
  },
  "language_info": {
   "codemirror_mode": {
    "name": "ipython",
    "version": 3
   },
   "file_extension": ".py",
   "mimetype": "text/x-python",
   "name": "python",
   "nbconvert_exporter": "python",
   "pygments_lexer": "ipython3",
   "version": "3.9.7"
  },
  "latex_envs": {
   "LaTeX_envs_menu_present": true,
   "autoclose": false,
   "autocomplete": true,
   "bibliofile": "biblio.bib",
   "cite_by": "apalike",
   "current_citInitial": 1,
   "eqLabelWithNumbers": true,
   "eqNumInitial": 1,
   "hotkeys": {
    "equation": "Ctrl-E",
    "itemize": "Ctrl-I"
   },
   "labels_anchors": false,
   "latex_user_defs": false,
   "report_style_numbering": false,
   "user_envs_cfg": false
  }
 },
 "nbformat": 4,
 "nbformat_minor": 1
}
