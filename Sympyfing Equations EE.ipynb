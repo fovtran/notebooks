{
 "cells": [
  {
   "cell_type": "code",
   "execution_count": 2,
   "metadata": {
    "ExecuteTime": {
     "end_time": "2019-01-19T23:38:57.525251Z",
     "start_time": "2019-01-19T23:38:57.493999Z"
    }
   },
   "outputs": [],
   "source": [
    "from __future__ import division\n",
    "import sympy as sp\n",
    "sp.init_printing()\n",
    "from IPython.display import display as print\n",
    "\n",
    "x, y, z, t = sp.symbols('x y z t')\n",
    "k, m, n = sp.symbols('k m n', integer=True)\n",
    "f, g, h = sp.symbols('f g h', cls=sp.Function)"
   ]
  },
  {
   "cell_type": "code",
   "execution_count": 3,
   "metadata": {
    "ExecuteTime": {
     "end_time": "2019-01-19T23:39:01.072132Z",
     "start_time": "2019-01-19T23:38:59.415878Z"
    }
   },
   "outputs": [
    {
     "ename": "ImportError",
     "evalue": "No module named 'latex2sympy.gen'",
     "output_type": "error",
     "traceback": [
      "\u001b[1;31m---------------------------------------------------------------------------\u001b[0m",
      "\u001b[1;31mImportError\u001b[0m                               Traceback (most recent call last)",
      "\u001b[1;32m<ipython-input-3-ebebd3a04d0b>\u001b[0m in \u001b[0;36m<module>\u001b[1;34m\u001b[0m\n\u001b[0;32m      1\u001b[0m \u001b[1;32mimport\u001b[0m \u001b[0mlatex2sympy\u001b[0m\u001b[1;33m\u001b[0m\u001b[0m\n\u001b[1;32m----> 2\u001b[1;33m \u001b[1;32mfrom\u001b[0m \u001b[0mlatex2sympy\u001b[0m\u001b[1;33m.\u001b[0m\u001b[0mprocess_latex\u001b[0m \u001b[1;32mimport\u001b[0m \u001b[0mprocess_sympy\u001b[0m\u001b[1;33m\u001b[0m\u001b[0m\n\u001b[0m\u001b[0;32m      3\u001b[0m \u001b[0ma\u001b[0m\u001b[1;33m.\u001b[0m\u001b[0mprocess_sympy\u001b[0m\u001b[1;33m(\u001b[0m\u001b[1;34m\"\\\\frac{d}{dx} x^{2}\"\u001b[0m\u001b[1;33m)\u001b[0m\u001b[1;33m\u001b[0m\u001b[0m\n",
      "\u001b[1;32md:\\binr\\python35\\lib\\site-packages\\latex2sympy\\process_latex.py\u001b[0m in \u001b[0;36m<module>\u001b[1;34m\u001b[0m\n\u001b[0;32m      3\u001b[0m \u001b[1;32mfrom\u001b[0m \u001b[0mantlr4\u001b[0m\u001b[1;33m.\u001b[0m\u001b[0merror\u001b[0m\u001b[1;33m.\u001b[0m\u001b[0mErrorListener\u001b[0m \u001b[1;32mimport\u001b[0m \u001b[0mErrorListener\u001b[0m\u001b[1;33m\u001b[0m\u001b[0m\n\u001b[0;32m      4\u001b[0m \u001b[1;33m\u001b[0m\u001b[0m\n\u001b[1;32m----> 5\u001b[1;33m \u001b[1;32mfrom\u001b[0m \u001b[1;33m.\u001b[0m\u001b[0mgen\u001b[0m\u001b[1;33m.\u001b[0m\u001b[0mPSParser\u001b[0m \u001b[1;32mimport\u001b[0m \u001b[0mPSParser\u001b[0m\u001b[1;33m\u001b[0m\u001b[0m\n\u001b[0m\u001b[0;32m      6\u001b[0m \u001b[1;32mfrom\u001b[0m \u001b[1;33m.\u001b[0m\u001b[0mgen\u001b[0m\u001b[1;33m.\u001b[0m\u001b[0mPSLexer\u001b[0m \u001b[1;32mimport\u001b[0m \u001b[0mPSLexer\u001b[0m\u001b[1;33m\u001b[0m\u001b[0m\n\u001b[0;32m      7\u001b[0m \u001b[1;32mfrom\u001b[0m \u001b[1;33m.\u001b[0m\u001b[0mgen\u001b[0m\u001b[1;33m.\u001b[0m\u001b[0mPSListener\u001b[0m \u001b[1;32mimport\u001b[0m \u001b[0mPSListener\u001b[0m\u001b[1;33m\u001b[0m\u001b[0m\n",
      "\u001b[1;31mImportError\u001b[0m: No module named 'latex2sympy.gen'"
     ]
    }
   ],
   "source": [
    "import latex2sympy \n",
    "from latex2sympy.process_latex import process_sympy\n",
    "a.process_sympy(\"\\\\frac{d}{dx} x^{2}\")"
   ]
  },
  {
   "cell_type": "code",
   "execution_count": 4,
   "metadata": {
    "ExecuteTime": {
     "end_time": "2019-01-19T23:39:27.681559Z",
     "start_time": "2019-01-19T23:39:09.244021Z"
    }
   },
   "outputs": [
    {
     "name": "stderr",
     "output_type": "stream",
     "text": [
      "W: Locale appears not set! please export LANG=\"en_US.UTF-8\" or equivalent, \n",
      "W: or ahkab's unicode support is broken.\n"
     ]
    }
   ],
   "source": [
    "import matplotlib as mpl\n",
    "import ahkab"
   ]
  },
  {
   "cell_type": "code",
   "execution_count": 21,
   "metadata": {},
   "outputs": [],
   "source": [
    "mycir = ahkab.Circuit('Simple Example Circuit')"
   ]
  },
  {
   "cell_type": "code",
   "execution_count": 24,
   "metadata": {},
   "outputs": [],
   "source": [
    "mycir.add_resistor('R1', 'n1', mycir.gnd, value=5)\n",
    "mycir.add_vsource('V1', 'n2', 'n1', dc_value=8)\n",
    "mycir.add_resistor('R2', 'n2', mycir.gnd, value=2)\n",
    "mycir.add_vsource('V2', 'n3', 'n2', dc_value=4)\n",
    "mycir.add_resistor('R3', 'n3', mycir.gnd, value=4)\n",
    "mycir.add_resistor('R4', 'n3', 'n4', value=1)\n",
    "mycir.add_vsource('V3', 'n4', mycir.gnd, dc_value=10)\n",
    "mycir.add_resistor('R5', 'n2', 'n4', value=4)"
   ]
  },
  {
   "cell_type": "code",
   "execution_count": 25,
   "metadata": {},
   "outputs": [],
   "source": [
    "opa = ahkab.new_op()\n",
    "r = ahkab.run(mycir, opa)['op']"
   ]
  },
  {
   "cell_type": "code",
   "execution_count": 27,
   "metadata": {},
   "outputs": [
    {
     "name": "stdout",
     "output_type": "stream",
     "text": [
      "OP simulation results for 'Simple Example Circuit'.\n",
      "Run on 2019-01-19 05:55:45, data file d:\\volumedatal\\Temp\\tmp3rzbx_op.op.\n",
      "Variable    Units        Value         Error    %\n",
      "----------  -------  ---------  ------------  ---\n",
      "VN1         V        -3.86364    3.86358e-12    0\n",
      "VN2         V         4.13636   -4.13591e-12    0\n",
      "VN3         V         8.13636   -8.13571e-12    0\n",
      "VN4         V        10         -1.00027e-11    0\n",
      "I(V1)       A        -0.772727   0              0\n",
      "I(V2)       A        -0.170455   0              0\n",
      "I(V3)       A        -3.32955    0              0\n"
     ]
    }
   ],
   "source": [
    "print(r)"
   ]
  },
  {
   "cell_type": "code",
   "execution_count": 40,
   "metadata": {},
   "outputs": [
    {
     "ename": "ImportError",
     "evalue": "No module named 'tkinter'",
     "output_type": "error",
     "traceback": [
      "\u001b[1;31m---------------------------------------------------------------------------\u001b[0m",
      "\u001b[1;31mImportError\u001b[0m                               Traceback (most recent call last)",
      "\u001b[1;32m<ipython-input-40-c7f14d2d10a2>\u001b[0m in \u001b[0;36m<module>\u001b[1;34m\u001b[0m\n\u001b[0;32m      1\u001b[0m \u001b[1;32mimport\u001b[0m \u001b[0mahkab\u001b[0m\u001b[1;33m\u001b[0m\u001b[0m\n\u001b[1;32m----> 2\u001b[1;33m \u001b[1;32mimport\u001b[0m \u001b[0mpylab\u001b[0m\u001b[1;33m\u001b[0m\u001b[0m\n\u001b[0m\u001b[0;32m      3\u001b[0m \u001b[1;33m\u001b[0m\u001b[0m\n\u001b[0;32m      4\u001b[0m \u001b[0mosc\u001b[0m \u001b[1;33m=\u001b[0m \u001b[0mahkab\u001b[0m\u001b[1;33m.\u001b[0m\u001b[0mCircuit\u001b[0m\u001b[1;33m(\u001b[0m\u001b[1;34m'MOS COLPITTS OSCILLATOR'\u001b[0m\u001b[1;33m)\u001b[0m\u001b[1;33m\u001b[0m\u001b[0m\n\u001b[0;32m      5\u001b[0m \u001b[1;33m\u001b[0m\u001b[0m\n",
      "\u001b[1;32md:\\binr\\python35\\lib\\site-packages\\pylab.py\u001b[0m in \u001b[0;36m<module>\u001b[1;34m\u001b[0m\n\u001b[1;32m----> 1\u001b[1;33m \u001b[1;32mfrom\u001b[0m \u001b[0mmatplotlib\u001b[0m\u001b[1;33m.\u001b[0m\u001b[0mpylab\u001b[0m \u001b[1;32mimport\u001b[0m \u001b[1;33m*\u001b[0m\u001b[1;33m\u001b[0m\u001b[0m\n\u001b[0m\u001b[0;32m      2\u001b[0m \u001b[1;32mimport\u001b[0m \u001b[0mmatplotlib\u001b[0m\u001b[1;33m.\u001b[0m\u001b[0mpylab\u001b[0m\u001b[1;33m\u001b[0m\u001b[0m\n\u001b[0;32m      3\u001b[0m \u001b[0m__doc__\u001b[0m \u001b[1;33m=\u001b[0m \u001b[0mmatplotlib\u001b[0m\u001b[1;33m.\u001b[0m\u001b[0mpylab\u001b[0m\u001b[1;33m.\u001b[0m\u001b[0m__doc__\u001b[0m\u001b[1;33m\u001b[0m\u001b[0m\n",
      "\u001b[1;32md:\\binr\\python35\\lib\\site-packages\\matplotlib\\pylab.py\u001b[0m in \u001b[0;36m<module>\u001b[1;34m\u001b[0m\n\u001b[0;32m    243\u001b[0m     window_hanning, window_none)\n\u001b[0;32m    244\u001b[0m \u001b[1;33m\u001b[0m\u001b[0m\n\u001b[1;32m--> 245\u001b[1;33m \u001b[1;32mfrom\u001b[0m \u001b[0mmatplotlib\u001b[0m \u001b[1;32mimport\u001b[0m \u001b[0mcbook\u001b[0m\u001b[1;33m,\u001b[0m \u001b[0mmlab\u001b[0m\u001b[1;33m,\u001b[0m \u001b[0mpyplot\u001b[0m \u001b[1;32mas\u001b[0m \u001b[0mplt\u001b[0m\u001b[1;33m\u001b[0m\u001b[0m\n\u001b[0m\u001b[0;32m    246\u001b[0m \u001b[1;32mfrom\u001b[0m \u001b[0mmatplotlib\u001b[0m\u001b[1;33m.\u001b[0m\u001b[0mpyplot\u001b[0m \u001b[1;32mimport\u001b[0m \u001b[1;33m*\u001b[0m\u001b[1;33m\u001b[0m\u001b[0m\n\u001b[0;32m    247\u001b[0m \u001b[1;33m\u001b[0m\u001b[0m\n",
      "\u001b[1;32md:\\binr\\python35\\lib\\site-packages\\matplotlib\\pyplot.py\u001b[0m in \u001b[0;36m<module>\u001b[1;34m\u001b[0m\n\u001b[0;32m   2372\u001b[0m     \u001b[0mdict\u001b[0m\u001b[1;33m.\u001b[0m\u001b[0m__setitem__\u001b[0m\u001b[1;33m(\u001b[0m\u001b[0mrcParams\u001b[0m\u001b[1;33m,\u001b[0m \u001b[1;34m\"backend\"\u001b[0m\u001b[1;33m,\u001b[0m \u001b[0mrcsetup\u001b[0m\u001b[1;33m.\u001b[0m\u001b[0m_auto_backend_sentinel\u001b[0m\u001b[1;33m)\u001b[0m\u001b[1;33m\u001b[0m\u001b[0m\n\u001b[0;32m   2373\u001b[0m \u001b[1;31m# Set up the backend.\u001b[0m\u001b[1;33m\u001b[0m\u001b[1;33m\u001b[0m\u001b[0m\n\u001b[1;32m-> 2374\u001b[1;33m \u001b[0mswitch_backend\u001b[0m\u001b[1;33m(\u001b[0m\u001b[0mrcParams\u001b[0m\u001b[1;33m[\u001b[0m\u001b[1;34m\"backend\"\u001b[0m\u001b[1;33m]\u001b[0m\u001b[1;33m)\u001b[0m\u001b[1;33m\u001b[0m\u001b[0m\n\u001b[0m\u001b[0;32m   2375\u001b[0m \u001b[1;33m\u001b[0m\u001b[0m\n\u001b[0;32m   2376\u001b[0m \u001b[1;31m# Just to be safe.  Interactive mode can be turned on without\u001b[0m\u001b[1;33m\u001b[0m\u001b[1;33m\u001b[0m\u001b[0m\n",
      "\u001b[1;32md:\\binr\\python35\\lib\\site-packages\\matplotlib\\pyplot.py\u001b[0m in \u001b[0;36mswitch_backend\u001b[1;34m(newbackend)\u001b[0m\n\u001b[0;32m    205\u001b[0m         else \"matplotlib.backends.backend_{}\".format(newbackend.lower()))\n\u001b[0;32m    206\u001b[0m \u001b[1;33m\u001b[0m\u001b[0m\n\u001b[1;32m--> 207\u001b[1;33m     \u001b[0mbackend_mod\u001b[0m \u001b[1;33m=\u001b[0m \u001b[0mimportlib\u001b[0m\u001b[1;33m.\u001b[0m\u001b[0mimport_module\u001b[0m\u001b[1;33m(\u001b[0m\u001b[0mbackend_name\u001b[0m\u001b[1;33m)\u001b[0m\u001b[1;33m\u001b[0m\u001b[0m\n\u001b[0m\u001b[0;32m    208\u001b[0m     Backend = type(\n\u001b[0;32m    209\u001b[0m         \"Backend\", (matplotlib.backends._Backend,), vars(backend_mod))\n",
      "\u001b[1;32md:\\binr\\python35\\lib\\importlib\\__init__.py\u001b[0m in \u001b[0;36mimport_module\u001b[1;34m(name, package)\u001b[0m\n\u001b[0;32m    124\u001b[0m                 \u001b[1;32mbreak\u001b[0m\u001b[1;33m\u001b[0m\u001b[0m\n\u001b[0;32m    125\u001b[0m             \u001b[0mlevel\u001b[0m \u001b[1;33m+=\u001b[0m \u001b[1;36m1\u001b[0m\u001b[1;33m\u001b[0m\u001b[0m\n\u001b[1;32m--> 126\u001b[1;33m     \u001b[1;32mreturn\u001b[0m \u001b[0m_bootstrap\u001b[0m\u001b[1;33m.\u001b[0m\u001b[0m_gcd_import\u001b[0m\u001b[1;33m(\u001b[0m\u001b[0mname\u001b[0m\u001b[1;33m[\u001b[0m\u001b[0mlevel\u001b[0m\u001b[1;33m:\u001b[0m\u001b[1;33m]\u001b[0m\u001b[1;33m,\u001b[0m \u001b[0mpackage\u001b[0m\u001b[1;33m,\u001b[0m \u001b[0mlevel\u001b[0m\u001b[1;33m)\u001b[0m\u001b[1;33m\u001b[0m\u001b[0m\n\u001b[0m\u001b[0;32m    127\u001b[0m \u001b[1;33m\u001b[0m\u001b[0m\n\u001b[0;32m    128\u001b[0m \u001b[1;33m\u001b[0m\u001b[0m\n",
      "\u001b[1;32md:\\binr\\python35\\lib\\site-packages\\matplotlib\\backends\\backend_tkagg.py\u001b[0m in \u001b[0;36m<module>\u001b[1;34m\u001b[0m\n\u001b[1;32m----> 1\u001b[1;33m \u001b[1;32mfrom\u001b[0m \u001b[1;33m.\u001b[0m \u001b[1;32mimport\u001b[0m \u001b[0m_backend_tk\u001b[0m\u001b[1;33m\u001b[0m\u001b[0m\n\u001b[0m\u001b[0;32m      2\u001b[0m \u001b[1;32mfrom\u001b[0m \u001b[1;33m.\u001b[0m\u001b[0mbackend_agg\u001b[0m \u001b[1;32mimport\u001b[0m \u001b[0mFigureCanvasAgg\u001b[0m\u001b[1;33m\u001b[0m\u001b[0m\n\u001b[0;32m      3\u001b[0m from ._backend_tk import (\n\u001b[0;32m      4\u001b[0m     _BackendTk, FigureCanvasTk, FigureManagerTk, NavigationToolbar2Tk)\n\u001b[0;32m      5\u001b[0m \u001b[1;33m\u001b[0m\u001b[0m\n",
      "\u001b[1;32md:\\binr\\python35\\lib\\site-packages\\matplotlib\\backends\\_backend_tk.py\u001b[0m in \u001b[0;36m<module>\u001b[1;34m\u001b[0m\n\u001b[0;32m      3\u001b[0m \u001b[1;32mimport\u001b[0m \u001b[0mos\u001b[0m\u001b[1;33m.\u001b[0m\u001b[0mpath\u001b[0m\u001b[1;33m\u001b[0m\u001b[0m\n\u001b[0;32m      4\u001b[0m \u001b[1;32mimport\u001b[0m \u001b[0msys\u001b[0m\u001b[1;33m\u001b[0m\u001b[0m\n\u001b[1;32m----> 5\u001b[1;33m \u001b[1;32mimport\u001b[0m \u001b[0mtkinter\u001b[0m \u001b[1;32mas\u001b[0m \u001b[0mTk\u001b[0m\u001b[1;33m\u001b[0m\u001b[0m\n\u001b[0m\u001b[0;32m      6\u001b[0m \u001b[1;32mfrom\u001b[0m \u001b[0mtkinter\u001b[0m\u001b[1;33m.\u001b[0m\u001b[0msimpledialog\u001b[0m \u001b[1;32mimport\u001b[0m \u001b[0mSimpleDialog\u001b[0m\u001b[1;33m\u001b[0m\u001b[0m\n\u001b[0;32m      7\u001b[0m \u001b[1;32mfrom\u001b[0m \u001b[0mcontextlib\u001b[0m \u001b[1;32mimport\u001b[0m \u001b[0mcontextmanager\u001b[0m\u001b[1;33m\u001b[0m\u001b[0m\n",
      "\u001b[1;31mImportError\u001b[0m: No module named 'tkinter'"
     ]
    }
   ],
   "source": [
    "import ahkab\n",
    "import pylab\n",
    "\n",
    "osc = ahkab.Circuit('MOS COLPITTS OSCILLATOR')\n",
    "\n",
    "# models need to be defined before the devices that use them\n",
    "osc.add_model('ekv', 'nmos', dict(TYPE='n', VTO=.4, KP=10e-6))\n",
    "\n",
    "osc.add_vsource('vdd', n1='dd', n2=osc.gnd, dc_value=3.3)\n",
    "\n",
    "# Ql = 33 at 3GHz\n",
    "osc.add_inductor('l1', n1='dd', n2='nd', value=5e-9, ic=-1e-9)\n",
    "osc.add_resistor('r0', n1='nd', n2='dd', value=3.5e3)\n",
    "\n",
    "# n = 0.5, f0 = 3GHz\n",
    "osc.add_capacitor('c1', n1='nd', n2='ns', value=1.12e-12)\n",
    "osc.add_capacitor('c2', n1='ns', n2=osc.gnd, value=1.12e-12)\n",
    "\n",
    "osc.add_mos('m1', nd='nd1', ng='bias', ns='ns', nb='ns',\n",
    "            model_label='nmos', w=600e-6, l=100e-9)\n",
    "# voltage source as a current probe\n",
    "osc.add_vsource('vtest', n1='nd', n2='nd1', dc_value=0)\n",
    "\n",
    "# Bias\n",
    "osc.add_vsource('vbias', n1='bias', n2=osc.gnd, dc_value=2.)\n",
    "osc.add_isource('ib', n1='ns', n2=osc.gnd, dc_value=1.3e-3)\n",
    "\n",
    "# calculate an Operating Point (OP) to initialize the transient\n",
    "# analysis\n",
    "op = ahkab.new_op()\n",
    "res = ahkab.run(osc, op)\n",
    "\n",
    "# modify the OP to give the circuit a little kick to start the\n",
    "# oscillation\n",
    "x0 = res['op'].asmatrix()\n",
    "l1vdei = osc.find_vde_index('l1')\n",
    "l1i = len(osc.nodes_dict) - 1 + l1vdei\n",
    "x0[l1i, 0] += -1e-9\n",
    "\n",
    "# Setup and run a transient analysis with the modified x0 as start point\n",
    "tran = ahkab.new_tran(tstart=0., tstop=20e-9, tstep=.01e-9, method='trap',\n",
    "                      x0=x0)\n",
    "res = ahkab.run(osc, tran)['tran']\n",
    "\n",
    "# plot the results!\n",
    "pylab.subplot(211)\n",
    "pylab.hold(True)\n",
    "pylab.plot(res.get_x(), res['vnd'], label='ND')\n",
    "pylab.plot(res.get_x(), res['vns'], label='NS')\n",
    "pylab.plot(res.get_x(), res['vbias'], label='BIAS')\n",
    "pylab.legend()\n",
    "pylab.subplot(212)\n",
    "pylab.plot(res.get_x(), res['i(vtest)'], label='I(VTEST)')\n",
    "pylab.legend()\n",
    "pylab.show()"
   ]
  },
  {
   "cell_type": "code",
   "execution_count": null,
   "metadata": {},
   "outputs": [],
   "source": []
  },
  {
   "cell_type": "code",
   "execution_count": 30,
   "metadata": {},
   "outputs": [
    {
     "name": "stdout",
     "output_type": "stream",
     "text": [
      "2019-01-19 03:01:58,578 - PySpice.Spice.Netlist - Netlist.DEBUG - Element don't define a __pins__ attribute\n",
      "2019-01-19 03:01:58,578 - PySpice.Spice.Netlist - Netlist.DEBUG - FixedPinElement don't define a __pins__ attribute\n",
      "2019-01-19 03:01:58,578 - PySpice.Spice.Netlist - Netlist.DEBUG - SubCircuitElement don't define a __pins__ attribute\n",
      "2019-01-19 03:01:58,578 - PySpice.Spice.Netlist - Netlist.DEBUG - Resistor don't define a __pins__ attribute\n",
      "2019-01-19 03:01:58,578 - PySpice.Spice.Netlist - Netlist.DEBUG - SemiconductorResistor don't define a __pins__ attribute\n",
      "2019-01-19 03:01:58,578 - PySpice.Spice.Netlist - Netlist.DEBUG - BehavioralResistor don't define a __pins__ attribute\n",
      "2019-01-19 03:01:58,578 - PySpice.Spice.Netlist - Netlist.DEBUG - Capacitor don't define a __pins__ attribute\n",
      "2019-01-19 03:01:58,578 - PySpice.Spice.Netlist - Netlist.DEBUG - SemiconductorCapacitor don't define a __pins__ attribute\n",
      "2019-01-19 03:01:58,593 - PySpice.Spice.Netlist - Netlist.DEBUG - BehavioralCapacitor don't define a __pins__ attribute\n",
      "2019-01-19 03:01:58,593 - PySpice.Spice.Netlist - Netlist.DEBUG - Inductor don't define a __pins__ attribute\n",
      "2019-01-19 03:01:58,593 - PySpice.Spice.Netlist - Netlist.DEBUG - BehavioralInductor don't define a __pins__ attribute\n",
      "2019-01-19 03:01:58,593 - PySpice.Spice.Netlist - Netlist.DEBUG - CoupledInductor don't define a __pins__ attribute\n",
      "2019-01-19 03:01:58,593 - PySpice.Spice.Netlist - Netlist.DEBUG - VoltageControlledSwitch don't define a __pins__ attribute\n",
      "2019-01-19 03:01:58,593 - PySpice.Spice.Netlist - Netlist.DEBUG - CurrentControlledSwitch don't define a __pins__ attribute\n",
      "2019-01-19 03:01:58,609 - PySpice.Spice.Netlist - Netlist.DEBUG - VoltageSource don't define a __pins__ attribute\n",
      "2019-01-19 03:01:58,609 - PySpice.Spice.Netlist - Netlist.DEBUG - CurrentSource don't define a __pins__ attribute\n",
      "2019-01-19 03:01:58,609 - PySpice.Spice.Netlist - Netlist.DEBUG - VoltageControlledCurrentSource don't define a __pins__ attribute\n",
      "2019-01-19 03:01:58,609 - PySpice.Spice.Netlist - Netlist.DEBUG - VoltageControlledVoltageSource don't define a __pins__ attribute\n",
      "2019-01-19 03:01:58,609 - PySpice.Spice.Netlist - Netlist.DEBUG - CurrentControlledCurrentSource don't define a __pins__ attribute\n",
      "2019-01-19 03:01:58,609 - PySpice.Spice.Netlist - Netlist.DEBUG - CurrentControlledVoltageSource don't define a __pins__ attribute\n",
      "2019-01-19 03:01:58,609 - PySpice.Spice.Netlist - Netlist.DEBUG - BehavioralSource don't define a __pins__ attribute\n",
      "2019-01-19 03:01:58,625 - PySpice.Spice.Netlist - Netlist.DEBUG - NonLinearVoltageSource don't define a __pins__ attribute\n",
      "2019-01-19 03:01:58,625 - PySpice.Spice.Netlist - Netlist.DEBUG - NonLinearCurrentSource don't define a __pins__ attribute\n",
      "2019-01-19 03:01:58,625 - PySpice.Spice.Netlist - Netlist.DEBUG - JunctionFieldEffectTransistor don't define a __pins__ attribute\n",
      "2019-01-19 03:01:58,625 - PySpice.Spice.Netlist - Netlist.DEBUG - Mesfet don't define a __pins__ attribute\n",
      "2019-01-19 03:01:58,625 - PySpice.Spice.Netlist - Netlist.DEBUG - LosslessTransmissionLine don't define a __pins__ attribute\n",
      "2019-01-19 03:01:58,625 - PySpice.Spice.Netlist - Netlist.DEBUG - LossyTransmission don't define a __pins__ attribute\n",
      "2019-01-19 03:01:58,625 - PySpice.Spice.Netlist - Netlist.DEBUG - CoupledMulticonductorLine don't define a __pins__ attribute\n",
      "2019-01-19 03:01:58,625 - PySpice.Spice.Netlist - Netlist.DEBUG - SingleLossyTransmissionLine don't define a __pins__ attribute\n",
      "2019-01-19 03:01:58,640 - PySpice.Spice.Netlist - Netlist.DEBUG - XSpiceElement don't define a __pins__ attribute\n",
      "2019-01-19 03:01:58,640 - PySpice.Spice.Netlist - Netlist.DEBUG - GSSElement don't define a __pins__ attribute\n",
      "2019-01-19 03:01:58,640 - PySpice.Spice.Netlist - Netlist.DEBUG - SinusoidalVoltageSource don't define a __pins__ attribute\n",
      "2019-01-19 03:01:58,640 - PySpice.Spice.Netlist - Netlist.DEBUG - SinusoidalCurrentSource don't define a __pins__ attribute\n",
      "2019-01-19 03:01:58,640 - PySpice.Spice.Netlist - Netlist.DEBUG - AcLine don't define a __pins__ attribute\n",
      "2019-01-19 03:01:58,640 - PySpice.Spice.Netlist - Netlist.DEBUG - PulseVoltageSource don't define a __pins__ attribute\n",
      "2019-01-19 03:01:58,656 - PySpice.Spice.Netlist - Netlist.DEBUG - PulseCurrentSource don't define a __pins__ attribute\n",
      "2019-01-19 03:01:58,656 - PySpice.Spice.Netlist - Netlist.DEBUG - ExponentialVoltageSource don't define a __pins__ attribute\n",
      "2019-01-19 03:01:58,656 - PySpice.Spice.Netlist - Netlist.DEBUG - ExponentialCurrentSource don't define a __pins__ attribute\n",
      "2019-01-19 03:01:58,656 - PySpice.Spice.Netlist - Netlist.DEBUG - PieceWiseLinearVoltageSource don't define a __pins__ attribute\n",
      "2019-01-19 03:01:58,656 - PySpice.Spice.Netlist - Netlist.DEBUG - PieceWiseLinearCurrentSource don't define a __pins__ attribute\n",
      "2019-01-19 03:01:58,656 - PySpice.Spice.Netlist - Netlist.DEBUG - SingleFrequencyFMVoltageSource don't define a __pins__ attribute\n",
      "2019-01-19 03:01:58,656 - PySpice.Spice.Netlist - Netlist.DEBUG - SingleFrequencyFMCurrentSource don't define a __pins__ attribute\n",
      "2019-01-19 03:01:58,656 - PySpice.Spice.Netlist - Netlist.DEBUG - AmplitudeModulatedVoltageSource don't define a __pins__ attribute\n",
      "2019-01-19 03:01:58,656 - PySpice.Spice.Netlist - Netlist.DEBUG - AmplitudeModulatedCurrentSource don't define a __pins__ attribute\n",
      "2019-01-19 03:01:58,656 - PySpice.Spice.Netlist - Netlist.DEBUG - RandomVoltageSource don't define a __pins__ attribute\n",
      "2019-01-19 03:01:58,672 - PySpice.Spice.Netlist - Netlist.DEBUG - RandomCurrentSource don't define a __pins__ attribute\n"
     ]
    }
   ],
   "source": [
    "import PySpice.Logging.Logging as Logging\n",
    "logger = Logging.setup_logging()\n",
    "\n",
    "from PySpice.Spice.Library import SpiceLibrary\n",
    "from PySpice.Spice.Netlist import Circuit, SubCircuit, SubCircuitFactory\n",
    "from PySpice.Unit import *\n",
    "\n",
    "class SubCircuit1(SubCircuitFactory):\n",
    "    __name__ = 'sub_circuit1'\n",
    "    __nodes__ = ('n1', 'n2')\n",
    "    def __init__(self):\n",
    "        super().__init__()\n",
    "        self.R(1, 'n1', 'n2', 1@u_Ω)\n",
    "        self.R(2, 'n1', 'n2', 2@u_Ω)"
   ]
  },
  {
   "cell_type": "code",
   "execution_count": 31,
   "metadata": {},
   "outputs": [],
   "source": [
    "circuit = Circuit('Test')"
   ]
  },
  {
   "cell_type": "code",
   "execution_count": 32,
   "metadata": {},
   "outputs": [
    {
     "data": {
      "text/plain": [
       "SubCircuitElement X1"
      ]
     },
     "execution_count": 32,
     "metadata": {},
     "output_type": "execute_result"
    }
   ],
   "source": [
    "C1 = circuit.C(1, 0, 1, 1@u_uF)\n",
    "\n",
    "circuit.C(2, 1, 2, 2@u_uF)\n",
    "circuit.subcircuit(SubCircuit1())\n",
    "circuit.X('1', 'sub_circuit1', 2, 0)"
   ]
  },
  {
   "cell_type": "code",
   "execution_count": 33,
   "metadata": {},
   "outputs": [],
   "source": [
    "C1 = circuit.C1\n",
    "C1 = circuit['C1']"
   ]
  },
  {
   "cell_type": "code",
   "execution_count": 34,
   "metadata": {},
   "outputs": [],
   "source": [
    "C1.capacitance = 10@u_F"
   ]
  },
  {
   "cell_type": "code",
   "execution_count": 35,
   "metadata": {},
   "outputs": [
    {
     "name": "stdout",
     "output_type": "stream",
     "text": [
      ".title Test\r\n",
      ".subckt sub_circuit1 n1 n2\r\n",
      "R1 n1 n2 1Ohm\r\n",
      "R2 n1 n2 2Ohm\r\n",
      ".ends sub_circuit1\r\n",
      "C1 0 1 10\r\n",
      "C2 1 2 2uF\r\n",
      "X1 2 0 sub_circuit1\r\n",
      "\n"
     ]
    }
   ],
   "source": [
    "print(circuit) # str(circuit) is implicit here"
   ]
  },
  {
   "cell_type": "code",
   "execution_count": 36,
   "metadata": {},
   "outputs": [
    {
     "name": "stdout",
     "output_type": "stream",
     "text": [
      "C1 0 1 10\n"
     ]
    }
   ],
   "source": [
    "print(C1)"
   ]
  },
  {
   "cell_type": "code",
   "execution_count": 37,
   "metadata": {},
   "outputs": [
    {
     "name": "stdout",
     "output_type": "stream",
     "text": [
      ".title Test\r\n",
      ".subckt sub_circuit1 n1 n2\r\n",
      "R1 n1 n2 1Ohm\r\n",
      "R2 n1 n2 2Ohm\r\n",
      ".ends sub_circuit1\r\n",
      "C2 1 2 2uF\r\n",
      "X1 2 0 sub_circuit1\r\n",
      "\n"
     ]
    }
   ],
   "source": [
    "C1.enabled = False\n",
    "print(circuit)"
   ]
  },
  {
   "cell_type": "code",
   "execution_count": 38,
   "metadata": {},
   "outputs": [
    {
     "name": "stdout",
     "output_type": "stream",
     "text": [
      ".title A clone\r\n",
      ".subckt sub_circuit1 n1 n2\r\n",
      "R1 n1 n2 1Ohm\r\n",
      "R2 n1 n2 2Ohm\r\n",
      ".ends sub_circuit1\r\n",
      "C1 0 1 10\r\n",
      "C2 1 2 2uF\r\n",
      "X1 2 0 sub_circuit1\r\n",
      "\n"
     ]
    }
   ],
   "source": [
    "circuit2 = circuit.clone(title='A clone') # title is optional\n",
    "print(circuit2)"
   ]
  },
  {
   "cell_type": "code",
   "execution_count": 39,
   "metadata": {},
   "outputs": [
    {
     "ename": "ImportError",
     "evalue": "No module named 'tkinter'",
     "output_type": "error",
     "traceback": [
      "\u001b[1;31m---------------------------------------------------------------------------\u001b[0m",
      "\u001b[1;31mImportError\u001b[0m                               Traceback (most recent call last)",
      "\u001b[1;32m<ipython-input-39-8198a9b6ac69>\u001b[0m in \u001b[0;36m<module>\u001b[1;34m\u001b[0m\n\u001b[1;32m----> 1\u001b[1;33m \u001b[1;32mimport\u001b[0m \u001b[0mmatplotlib\u001b[0m\u001b[1;33m.\u001b[0m\u001b[0mpyplot\u001b[0m \u001b[1;32mas\u001b[0m \u001b[0mplt\u001b[0m\u001b[1;33m\u001b[0m\u001b[0m\n\u001b[0m\u001b[0;32m      2\u001b[0m \u001b[1;33m\u001b[0m\u001b[0m\n\u001b[0;32m      3\u001b[0m \u001b[1;33m\u001b[0m\u001b[0m\n\u001b[0;32m      4\u001b[0m \u001b[1;32mimport\u001b[0m \u001b[0mPySpice\u001b[0m\u001b[1;33m.\u001b[0m\u001b[0mLogging\u001b[0m\u001b[1;33m.\u001b[0m\u001b[0mLogging\u001b[0m \u001b[1;32mas\u001b[0m \u001b[0mLogging\u001b[0m\u001b[1;33m\u001b[0m\u001b[0m\n\u001b[0;32m      5\u001b[0m \u001b[0mlogger\u001b[0m \u001b[1;33m=\u001b[0m \u001b[0mLogging\u001b[0m\u001b[1;33m.\u001b[0m\u001b[0msetup_logging\u001b[0m\u001b[1;33m(\u001b[0m\u001b[1;33m)\u001b[0m\u001b[1;33m\u001b[0m\u001b[0m\n",
      "\u001b[1;32md:\\binr\\python35\\lib\\site-packages\\matplotlib\\pyplot.py\u001b[0m in \u001b[0;36m<module>\u001b[1;34m\u001b[0m\n\u001b[0;32m   2372\u001b[0m     \u001b[0mdict\u001b[0m\u001b[1;33m.\u001b[0m\u001b[0m__setitem__\u001b[0m\u001b[1;33m(\u001b[0m\u001b[0mrcParams\u001b[0m\u001b[1;33m,\u001b[0m \u001b[1;34m\"backend\"\u001b[0m\u001b[1;33m,\u001b[0m \u001b[0mrcsetup\u001b[0m\u001b[1;33m.\u001b[0m\u001b[0m_auto_backend_sentinel\u001b[0m\u001b[1;33m)\u001b[0m\u001b[1;33m\u001b[0m\u001b[0m\n\u001b[0;32m   2373\u001b[0m \u001b[1;31m# Set up the backend.\u001b[0m\u001b[1;33m\u001b[0m\u001b[1;33m\u001b[0m\u001b[0m\n\u001b[1;32m-> 2374\u001b[1;33m \u001b[0mswitch_backend\u001b[0m\u001b[1;33m(\u001b[0m\u001b[0mrcParams\u001b[0m\u001b[1;33m[\u001b[0m\u001b[1;34m\"backend\"\u001b[0m\u001b[1;33m]\u001b[0m\u001b[1;33m)\u001b[0m\u001b[1;33m\u001b[0m\u001b[0m\n\u001b[0m\u001b[0;32m   2375\u001b[0m \u001b[1;33m\u001b[0m\u001b[0m\n\u001b[0;32m   2376\u001b[0m \u001b[1;31m# Just to be safe.  Interactive mode can be turned on without\u001b[0m\u001b[1;33m\u001b[0m\u001b[1;33m\u001b[0m\u001b[0m\n",
      "\u001b[1;32md:\\binr\\python35\\lib\\site-packages\\matplotlib\\pyplot.py\u001b[0m in \u001b[0;36mswitch_backend\u001b[1;34m(newbackend)\u001b[0m\n\u001b[0;32m    205\u001b[0m         else \"matplotlib.backends.backend_{}\".format(newbackend.lower()))\n\u001b[0;32m    206\u001b[0m \u001b[1;33m\u001b[0m\u001b[0m\n\u001b[1;32m--> 207\u001b[1;33m     \u001b[0mbackend_mod\u001b[0m \u001b[1;33m=\u001b[0m \u001b[0mimportlib\u001b[0m\u001b[1;33m.\u001b[0m\u001b[0mimport_module\u001b[0m\u001b[1;33m(\u001b[0m\u001b[0mbackend_name\u001b[0m\u001b[1;33m)\u001b[0m\u001b[1;33m\u001b[0m\u001b[0m\n\u001b[0m\u001b[0;32m    208\u001b[0m     Backend = type(\n\u001b[0;32m    209\u001b[0m         \"Backend\", (matplotlib.backends._Backend,), vars(backend_mod))\n",
      "\u001b[1;32md:\\binr\\python35\\lib\\importlib\\__init__.py\u001b[0m in \u001b[0;36mimport_module\u001b[1;34m(name, package)\u001b[0m\n\u001b[0;32m    124\u001b[0m                 \u001b[1;32mbreak\u001b[0m\u001b[1;33m\u001b[0m\u001b[0m\n\u001b[0;32m    125\u001b[0m             \u001b[0mlevel\u001b[0m \u001b[1;33m+=\u001b[0m \u001b[1;36m1\u001b[0m\u001b[1;33m\u001b[0m\u001b[0m\n\u001b[1;32m--> 126\u001b[1;33m     \u001b[1;32mreturn\u001b[0m \u001b[0m_bootstrap\u001b[0m\u001b[1;33m.\u001b[0m\u001b[0m_gcd_import\u001b[0m\u001b[1;33m(\u001b[0m\u001b[0mname\u001b[0m\u001b[1;33m[\u001b[0m\u001b[0mlevel\u001b[0m\u001b[1;33m:\u001b[0m\u001b[1;33m]\u001b[0m\u001b[1;33m,\u001b[0m \u001b[0mpackage\u001b[0m\u001b[1;33m,\u001b[0m \u001b[0mlevel\u001b[0m\u001b[1;33m)\u001b[0m\u001b[1;33m\u001b[0m\u001b[0m\n\u001b[0m\u001b[0;32m    127\u001b[0m \u001b[1;33m\u001b[0m\u001b[0m\n\u001b[0;32m    128\u001b[0m \u001b[1;33m\u001b[0m\u001b[0m\n",
      "\u001b[1;32md:\\binr\\python35\\lib\\site-packages\\matplotlib\\backends\\backend_tkagg.py\u001b[0m in \u001b[0;36m<module>\u001b[1;34m\u001b[0m\n\u001b[1;32m----> 1\u001b[1;33m \u001b[1;32mfrom\u001b[0m \u001b[1;33m.\u001b[0m \u001b[1;32mimport\u001b[0m \u001b[0m_backend_tk\u001b[0m\u001b[1;33m\u001b[0m\u001b[0m\n\u001b[0m\u001b[0;32m      2\u001b[0m \u001b[1;32mfrom\u001b[0m \u001b[1;33m.\u001b[0m\u001b[0mbackend_agg\u001b[0m \u001b[1;32mimport\u001b[0m \u001b[0mFigureCanvasAgg\u001b[0m\u001b[1;33m\u001b[0m\u001b[0m\n\u001b[0;32m      3\u001b[0m from ._backend_tk import (\n\u001b[0;32m      4\u001b[0m     _BackendTk, FigureCanvasTk, FigureManagerTk, NavigationToolbar2Tk)\n\u001b[0;32m      5\u001b[0m \u001b[1;33m\u001b[0m\u001b[0m\n",
      "\u001b[1;32md:\\binr\\python35\\lib\\site-packages\\matplotlib\\backends\\_backend_tk.py\u001b[0m in \u001b[0;36m<module>\u001b[1;34m\u001b[0m\n\u001b[0;32m      3\u001b[0m \u001b[1;32mimport\u001b[0m \u001b[0mos\u001b[0m\u001b[1;33m.\u001b[0m\u001b[0mpath\u001b[0m\u001b[1;33m\u001b[0m\u001b[0m\n\u001b[0;32m      4\u001b[0m \u001b[1;32mimport\u001b[0m \u001b[0msys\u001b[0m\u001b[1;33m\u001b[0m\u001b[0m\n\u001b[1;32m----> 5\u001b[1;33m \u001b[1;32mimport\u001b[0m \u001b[0mtkinter\u001b[0m \u001b[1;32mas\u001b[0m \u001b[0mTk\u001b[0m\u001b[1;33m\u001b[0m\u001b[0m\n\u001b[0m\u001b[0;32m      6\u001b[0m \u001b[1;32mfrom\u001b[0m \u001b[0mtkinter\u001b[0m\u001b[1;33m.\u001b[0m\u001b[0msimpledialog\u001b[0m \u001b[1;32mimport\u001b[0m \u001b[0mSimpleDialog\u001b[0m\u001b[1;33m\u001b[0m\u001b[0m\n\u001b[0;32m      7\u001b[0m \u001b[1;32mfrom\u001b[0m \u001b[0mcontextlib\u001b[0m \u001b[1;32mimport\u001b[0m \u001b[0mcontextmanager\u001b[0m\u001b[1;33m\u001b[0m\u001b[0m\n",
      "\u001b[1;31mImportError\u001b[0m: No module named 'tkinter'"
     ]
    }
   ],
   "source": [
    "import matplotlib.pyplot as plt\n",
    "\n",
    "\n",
    "import PySpice.Logging.Logging as Logging\n",
    "logger = Logging.setup_logging()\n",
    "\n",
    "\n",
    "from PySpice.Probe.Plot import plot\n",
    "from PySpice.Spice.Netlist import Circuit\n",
    "from PySpice.Unit import *\n",
    "\n",
    "# from OperationalAmplifier import basic_comparator\n",
    "\n",
    "\n",
    "circuit = Circuit('Astable Multivibrator')\n",
    "\n",
    "source = circuit.V('cc', 'vcc', circuit.gnd, 15@u_V)\n",
    "# Time constant\n",
    "circuit.R(1, 'output', 'comparator', 1@u_kΩ)\n",
    "circuit.C(1, 'comparator', circuit.gnd, 100@u_nF)\n",
    "# Reference\n",
    "circuit.R(2, 'output', 'reference', 100@u_kΩ)\n",
    "circuit.R(3, 'vcc', 'reference', 100@u_kΩ)\n",
    "circuit.R(4, 'reference', circuit.gnd, 100@u_kΩ)\n",
    "# Comparator\n",
    "# Fixme: ngspice is buggy with such subcircuit\n",
    "# circuit.subcircuit(basic_comparator)\n",
    "# circuit.X('comparator', 'BasicComparator', 'reference', 'comparator', 'vcc', circuit.gnd, 'output')\n",
    "circuit.NonLinearVoltageSource(1, 'output', circuit.gnd,\n",
    "                               expression='V(reference, comparator)',\n",
    "                               table=((-micro(1), 0),\n",
    "                                      (micro(1), source.dc_value))\n",
    "                               )\n",
    "\n",
    "simulator = circuit.simulator(temperature=25, nominal_temperature=25)\n",
    "simulator.initial_condition(comparator=0) # Fixme: simulator.nodes.comparator == 0\n",
    "analysis = simulator.transient(step_time=1@u_us, end_time=500@u_us)\n",
    "# Fixme: Xyce fails with Time step too small\n",
    "\n",
    "figure = plt.figure(1, (20, 10))\n",
    "plot(analysis.reference)\n",
    "plot(analysis.comparator)\n",
    "plot(analysis.output)\n",
    "plt.tight_layout()\n",
    "plt.show()"
   ]
  },
  {
   "cell_type": "code",
   "execution_count": null,
   "metadata": {},
   "outputs": [],
   "source": []
  }
 ],
 "metadata": {
  "kernelspec": {
   "display_name": "Python 3",
   "language": "python",
   "name": "python3"
  },
  "language_info": {
   "codemirror_mode": {
    "name": "ipython",
    "version": 3
   },
   "file_extension": ".py",
   "mimetype": "text/x-python",
   "name": "python",
   "nbconvert_exporter": "python",
   "pygments_lexer": "ipython3",
   "version": "3.5.4"
  },
  "toc": {
   "base_numbering": 1,
   "nav_menu": {},
   "number_sections": true,
   "sideBar": true,
   "skip_h1_title": false,
   "title_cell": "Table of Contents",
   "title_sidebar": "Contents",
   "toc_cell": false,
   "toc_position": {},
   "toc_section_display": true,
   "toc_window_display": false
  }
 },
 "nbformat": 4,
 "nbformat_minor": 2
}
