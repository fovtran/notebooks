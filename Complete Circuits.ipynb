{
 "cells": [
  {
   "cell_type": "code",
   "execution_count": 30,
   "metadata": {
    "ExecuteTime": {
     "end_time": "2019-07-02T04:32:16.069601Z",
     "start_time": "2019-07-02T04:32:14.553950Z"
    }
   },
   "outputs": [
    {
     "data": {
      "image/png": "[encoded data removed]",
      "text/latex": [
       "$$1.245847176079734$$"
      ],
      "text/plain": [
       "1.245847176079734"
      ]
     },
     "metadata": {},
     "output_type": "display_data"
    },
    {
     "data": {
      "image/png": "[encoded data removed]",
      "text/latex": [
       "$$1.2461971486924777$$"
      ],
      "text/plain": [
       "1.2461971486924777"
      ]
     },
     "metadata": {},
     "output_type": "display_data"
    },
    {
     "data": {
      "image/jpeg": "[encoded data removed]",
      "text/plain": [
       "<Figure size 425.97x240.444 with 1 Axes>"
      ]
     },
     "metadata": {
      "needs_background": "light"
     },
     "output_type": "display_data"
    }
   ],
   "source": [
    "%matplotlib inline\n",
    "%config InlineBackend.figure_format = 'jpg'\n",
    "import SchemDraw as SchemDraw\n",
    "import SchemDraw.elements as SchemDrawElement\n",
    "import numpy as np\n",
    "import ahkab\n",
    "from ahkab import circuit, printing, time_functions\n",
    "import pylab as plt\n",
    "\n",
    "from tempfile import NamedTemporaryFile\n",
    "\n",
    "def getCircuit(mycir):\n",
    "    tp = NamedTemporaryFile(mode='w+', delete=False)\n",
    "    tp.write(netlist)\n",
    "    tp.close()\n",
    "    cir = ahkab.netlist_parser.parse_circuit(tp.name)[0]\n",
    "    return cir\n",
    "\n",
    "esquematico = SchemDraw.Drawing(unit=5)\n",
    "V = esquematico.add(SchemDrawElement.SOURCE_V, label='V (375V)')\n",
    "R = esquematico.add(SchemDrawElement.RES, d='right', label='R1 (30M$\\Omega$)')\n",
    "\n",
    "esquematico.push()\n",
    "esquematico.add(SchemDrawElement.DOT_OPEN, d='right', label='tp1')\n",
    "vout = esquematico.add(SchemDrawElement.LINE, d='right')\n",
    "esquematico.add(SchemDrawElement.DOT_OPEN, d='right', label='Vout')\n",
    "esquematico.pop()\n",
    "\n",
    "esquematico.add(SchemDrawElement.LINE, to=vout.start)\n",
    "esquematico.add(SchemDrawElement.RES, d='down', botlabel='R2 (100K$\\Omega$)')\n",
    "esquematico.push()\n",
    "esquematico.add(SchemDrawElement.DOT_OPEN, d='right')\n",
    "vout = esquematico.add(SchemDrawElement.LINE, d='right')\n",
    "esquematico.add(SchemDrawElement.DOT_OPEN, d='right', label='Gnd')\n",
    "esquematico.pop()\n",
    "\n",
    "esquematico.add(SchemDrawElement.LINE, to=V.start)\n",
    "esquematico.add(SchemDrawElement.GND)\n",
    "esquematico.draw()\n",
    "esquematico.save('schematic.jpg')\n",
    "\n",
    "netlist = \"\"\"\n",
    ".title voltage divider\n",
    "v1 vcc 0 type=vdc vdc=375 vac=1\n",
    "r1 vcc tp1 30e6\n",
    "r2 tp1 0 10e4\n",
    "*r3 tp1 2 10e4\n",
    "*r4 2 tp2 10e3\n",
    "*r5 0 tp2 10e3\n",
    "\n",
    ".dc tp1 0 2 0.05 \n",
    "*vammeter vcc tp1 type=vdc vdc=0\n",
    "\"\"\"\n",
    "cir = getCircuit(netlist)\n",
    "op_analysis = ahkab.new_op(verbose=False)\n",
    "ac_analysis = ahkab.new_ac(start=1e3, stop=1e5, points=100, verbose=False)\n",
    "tran_analysis = ahkab.new_tran(tstart=0, tstop=1.2e-3, tstep=1e-4, x0=None, verbose=False)\n",
    "r = ahkab.run(cir, an_list=[op_analysis, ac_analysis, tran_analysis])\n",
    "\n",
    "#print(r['op'].keys())\n",
    "#print(r['ac'].keys())\n",
    "#print(r['tran'].keys())\n",
    "\n",
    "# op = r['op'].results\n",
    "Vtp1_op = r['op']['VTP1'][0][0]\n",
    "print(Vtp1_op)\n",
    "\n",
    "Vtp1_ac = r['tran']['I(V1)'][0]\n",
    "print(Vtp1_ac * -1e5)"
   ]
  },
  {
   "cell_type": "code",
   "execution_count": null,
   "metadata": {},
   "outputs": [],
   "source": []
  }
 ],
 "metadata": {
  "kernelspec": {
   "display_name": "Python 3",
   "language": "python",
   "name": "python3"
  },
  "language_info": {
   "codemirror_mode": {
    "name": "ipython",
    "version": 3
   },
   "file_extension": ".py",
   "mimetype": "text/x-python",
   "name": "python",
   "nbconvert_exporter": "python",
   "pygments_lexer": "ipython3",
   "version": "3.8.2"
  },
  "latex_envs": {
   "LaTeX_envs_menu_present": true,
   "autoclose": false,
   "autocomplete": true,
   "bibliofile": "biblio.bib",
   "cite_by": "apalike",
   "current_citInitial": 1,
   "eqLabelWithNumbers": true,
   "eqNumInitial": 1,
   "hotkeys": {
    "equation": "Ctrl-E",
    "itemize": "Ctrl-I"
   },
   "labels_anchors": false,
   "latex_user_defs": false,
   "report_style_numbering": false,
   "user_envs_cfg": false
  }
 },
 "nbformat": 4,
 "nbformat_minor": 2
}
