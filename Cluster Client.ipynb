{
 "cells": [
  {
   "cell_type": "code",
   "execution_count": 1,
   "metadata": {
    "ExecuteTime": {
     "end_time": "2019-02-08T18:20:07.318217Z",
     "start_time": "2019-02-08T18:20:07.193216Z"
    },
    "cell_style": "split"
   },
   "outputs": [
    {
     "name": "stdout",
     "output_type": "stream",
     "text": [
      "Available matplotlib backends: ['gtk3', 'inline', 'pdf', 'svg', 'gtk', 'osx', 'nbagg', 'ps', 'agg', 'qt', 'tk', 'qt5', 'wx', 'widget', 'notebook', 'qt4', 'ipympl']\n"
     ]
    },
    {
     "data": {
      "text/plain": [
       "'%.18f'"
      ]
     },
     "execution_count": 1,
     "metadata": {},
     "output_type": "execute_result"
    }
   ],
   "source": [
    "from __future__ import division\n",
    "import matplotlib.pyplot as plt\n",
    "from IPython.display import Math, Latex, display\n",
    "from IPython.display import display as print\n",
    "#from IPython import Cell\n",
    "import sympy as sp\n",
    "from sympy import symbols, Function\n",
    "import sympy.functions as sym\n",
    "from sympy import pprint\n",
    "from sympy import Symbol\n",
    "import sympy.printing as printing\n",
    "from sympy.parsing.sympy_parser import parse_expr\n",
    "\n",
    "sp.init_printing(use_latex=True)\n",
    "%config Cell.options_default.lineNumbers = False;\n",
    "%gui qt5\n",
    "from numpy import *\n",
    "x, y, z, t = symbols('x y z t')\n",
    "k, m, n = symbols('k m n', integer=True)\n",
    "f, g, h = symbols('f g h', cls=Function)\n",
    "%matplotlib --list\n",
    "%precision 18"
   ]
  },
  {
   "cell_type": "code",
   "execution_count": 2,
   "metadata": {
    "ExecuteTime": {
     "end_time": "2019-02-08T18:20:11.458856Z",
     "start_time": "2019-02-08T18:20:07.318217Z"
    }
   },
   "outputs": [
    {
     "data": {
      "image/png": "[encoded data removed]",
      "text/latex": [
       "$$\\left [ 0, \\quad 1, \\quad 2, \\quad 3\\right ]$$"
      ],
      "text/plain": [
       "[0, 1, 2, 3]"
      ]
     },
     "execution_count": 2,
     "metadata": {},
     "output_type": "execute_result"
    }
   ],
   "source": [
    "import ipyparallel as ipp\n",
    "c = ipp.Client()\n",
    "lview  = c.load_balanced_view()\n",
    "lview.block = True\n",
    "CORES = len(c[:])\n",
    "v = c[:]\n",
    "c.ids"
   ]
  },
  {
   "cell_type": "code",
   "execution_count": 3,
   "metadata": {
    "ExecuteTime": {
     "end_time": "2019-02-08T18:20:30.849532Z",
     "start_time": "2019-02-08T18:20:27.115147Z"
    }
   },
   "outputs": [
    {
     "data": {
      "text/plain": [
       "array([1., 0.])"
      ]
     },
     "execution_count": 3,
     "metadata": {},
     "output_type": "execute_result"
    }
   ],
   "source": [
    "def setter(a):\n",
    "    \"\"\"only copy read-only arrays\"\"\"\n",
    "    if not a.flags.writeable:\n",
    "        a=a.copy()\n",
    "        a[0]=1\n",
    "        return a\n",
    "A = np.zeros(2)\n",
    "c[0].apply_sync(setter, A)"
   ]
  },
  {
   "cell_type": "code",
   "execution_count": 4,
   "metadata": {
    "ExecuteTime": {
     "end_time": "2019-02-08T18:20:32.021409Z",
     "start_time": "2019-02-08T18:20:31.990171Z"
    }
   },
   "outputs": [],
   "source": [
    "v['A'] = A"
   ]
  },
  {
   "cell_type": "code",
   "execution_count": 14,
   "metadata": {
    "ExecuteTime": {
     "end_time": "2019-02-08T18:27:52.335118Z",
     "start_time": "2019-02-08T18:27:52.288243Z"
    }
   },
   "outputs": [],
   "source": [
    "from queue import Queue\n",
    "import pyopencl as cl\n",
    "from threading import Thread\n",
    "\n",
    "class cl_process():\n",
    "\tdef __init__(self, _prog):\n",
    "\t\tself.X = np.array([])\n",
    "\t\tself.Y = np.array([])\n",
    "\t\tself._prog = _prog\n",
    "\n",
    "\t\tself.ctx = cl.create_some_context()\n",
    "\t\tself.queue = cl.CommandQueue(self.ctx)\n",
    "\t\tself.mf = cl.mem_flags\n",
    "\t\tself.program = cl.Program(self.ctx, self._prog).build()\n",
    "\n",
    "\tdef cl_init(self, X=np.array([]), Y=np.array([])):\n",
    "\t\tself.prg = self.program\n",
    "\t\tself.X = np.array(X)\n",
    "\t\tself.Y = np.array(Y)\n",
    "\n",
    "\tdef cl_build(self):\t\t\n",
    "\t\tself.X_g = cl.Buffer(self.ctx, self.mf.READ_ONLY | self.mf.COPY_HOST_PTR, hostbuf=self.X)\n",
    "\t\tself.Y_g = cl.Buffer(self.ctx, self.mf.READ_ONLY | self.mf.COPY_HOST_PTR, hostbuf=self.Y)\n",
    "\t\t\n",
    "\t\n",
    "\tdef cl_execute(self):\n",
    "\t\tself.res_g = cl.Buffer(self.ctx, self.mf.WRITE_ONLY, self.X.nbytes)\n",
    "\t\tself.prg.sum(self.queue, self.X.shape, None, self.X_g, self.Y_g, self.res_g)\n",
    "\t\t\n",
    "\t\tself.res_np = np.empty_like(self.X)\n",
    "\t\tcl.enqueue_copy(self.queue, self.res_np, self.res_g)\n",
    "\n",
    "\tdef cl_get_result(self):\n",
    "\t\treturn self.res_np\n"
   ]
  },
  {
   "cell_type": "code",
   "execution_count": 15,
   "metadata": {
    "ExecuteTime": {
     "end_time": "2019-02-08T18:27:53.178871Z",
     "start_time": "2019-02-08T18:27:53.085121Z"
    }
   },
   "outputs": [],
   "source": [
    "# Our OpenCL_1.1 program\n",
    "myprog = \"\"\"\n",
    "__kernel void sum(\n",
    "    __global const float *a_g, __global const float *b_g, __global float *res_g)\n",
    "{\n",
    "  int gid = get_global_id(0);\n",
    "  res_g[gid] = a_g[gid] + b_g[gid];\n",
    "}\n",
    "\"\"\"\n",
    "mycl = cl_process(myprog)"
   ]
  },
  {
   "cell_type": "code",
   "execution_count": 29,
   "metadata": {
    "ExecuteTime": {
     "end_time": "2019-02-08T18:57:42.983815Z",
     "start_time": "2019-02-08T18:57:42.952565Z"
    }
   },
   "outputs": [
    {
     "data": {
      "text/plain": [
       "array([1.0215262 , 1.6900655 , 1.1601907 , ..., 1.2818075 , 1.1829779 ,\n",
       "       0.67918396], dtype=float32)"
      ]
     },
     "execution_count": 29,
     "metadata": {},
     "output_type": "execute_result"
    }
   ],
   "source": [
    "X = np.random.random(10000).astype(np.float32)\n",
    "Y = np.random.random(10000).astype(np.float32)\n",
    "mycl.cl_init(X,Y)\n",
    "mycl.cl_build()\n",
    "mycl.cl_execute()\n",
    "a = mycl.cl_get_result()\n",
    "a"
   ]
  },
  {
   "cell_type": "code",
   "execution_count": 30,
   "metadata": {
    "ExecuteTime": {
     "end_time": "2019-02-08T18:57:48.452580Z",
     "start_time": "2019-02-08T18:57:48.046339Z"
    }
   },
   "outputs": [],
   "source": [
    "import clr\n",
    "clr.AddReference(\"System.Windows.Forms\")\n",
    "clr.AddReference(\"System.Drawing\")\n",
    "from System.Windows.Forms import *\n",
    "from System.Drawing import *\n",
    "\n",
    "f = Form()\n",
    "f.Size =  Size(800,600)\n",
    "f.Text = \"Source Image\"\n",
    "f1 = Form()\n",
    "f1.Size =  Size(800,600)\n",
    "f.Text = \"Target Image\"\n",
    "editor = Form()\n",
    "editor.Size =  Size(320,200)\n",
    "editor.Text = \"OpenCL Editor\"\n",
    "#font = Font(\"Verdana\", 9)\n",
    "\n",
    "b = Bitmap(800,600)\n",
    "g = Graphics.FromImage(b);\n",
    "g.Clear(Color.Green);\n",
    "c = Color.FromArgb(255,0,0)\n",
    "\n",
    "for a in range(len(X)):\n",
    "\tb.SetPixel(X[a]*800,Y[a]*600, c)\n",
    "\n",
    "p = PictureBox()\n",
    "p.Size = Size(b.Width, b.Height)\n",
    "p.Visible = True\n",
    "p.Location = Point(0,0)\n",
    "p.Image = b\n",
    "f.Controls.Add(p)\n",
    "f.Update()\n",
    "\n",
    "#def click(f, a):\n",
    "#f.Click += click\n",
    "\n",
    "f.Show()"
   ]
  },
  {
   "cell_type": "code",
   "execution_count": null,
   "metadata": {},
   "outputs": [],
   "source": []
  }
 ],
 "metadata": {
  "kernelspec": {
   "display_name": "Python 3",
   "language": "python",
   "name": "python3"
  },
  "language_info": {
   "codemirror_mode": {
    "name": "ipython",
    "version": 3
   },
   "file_extension": ".py",
   "mimetype": "text/x-python",
   "name": "python",
   "nbconvert_exporter": "python",
   "pygments_lexer": "ipython3",
   "version": "3.5.4"
  }
 },
 "nbformat": 4,
 "nbformat_minor": 2
}
