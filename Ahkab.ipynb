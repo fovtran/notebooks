{
 "cells": [
  {
   "cell_type": "markdown",
   "metadata": {},
   "source": [
    "# Ahkab is a SPICE-like python package written by Giuseppe Venturini, Ian Daniher, Rob Crowther"
   ]
  },
  {
   "cell_type": "code",
   "execution_count": 1,
   "metadata": {},
   "outputs": [],
   "source": [
    "AHKAB_PATH = \"/Users/nikolas/src/ahkab\"\n",
    "import sys\n",
    "if not AHKAB_PATH in sys.path: sys.path.append(AHKAB_PATH)"
   ]
  },
  {
   "cell_type": "code",
   "execution_count": 1,
   "metadata": {
    "ExecuteTime": {
     "end_time": "2019-03-09T07:59:12.609299Z",
     "start_time": "2019-03-09T07:59:06.687286Z"
    }
   },
   "outputs": [],
   "source": [
    "import ahkab"
   ]
  },
  {
   "cell_type": "markdown",
   "metadata": {},
   "source": [
    "# Example copied from Ahkab's readme file"
   ]
  },
  {
   "cell_type": "code",
   "execution_count": 1,
   "metadata": {
    "ExecuteTime": {
     "end_time": "2019-07-01T18:50:37.125778Z",
     "start_time": "2019-07-01T18:50:28.642066Z"
    }
   },
   "outputs": [
    {
     "ename": "AttributeError",
     "evalue": "module 'pylab' has no attribute 'hold'",
     "output_type": "error",
     "traceback": [
      "\u001b[1;31m---------------------------------------------------------------------------\u001b[0m",
      "\u001b[1;31mAttributeError\u001b[0m                            Traceback (most recent call last)",
      "\u001b[1;32m<ipython-input-1-d9852f4f9a37>\u001b[0m in \u001b[0;36m<module>\u001b[1;34m\u001b[0m\n\u001b[0;32m     19\u001b[0m \u001b[1;31m# plot the results\u001b[0m\u001b[1;33m\u001b[0m\u001b[1;33m\u001b[0m\u001b[0m\n\u001b[0;32m     20\u001b[0m plot_results('Lowpass', [('|Vn2|',\"\")], res['ac'],\n\u001b[1;32m---> 21\u001b[1;33m              outfilename='lowpass.png')\n\u001b[0m",
      "\u001b[1;32md:\\binr\\python35\\lib\\site-packages\\ahkab\\plotting.py\u001b[0m in \u001b[0;36mplot_results\u001b[1;34m(title, y2y1_list, results, outfilename)\u001b[0m\n\u001b[0;32m    233\u001b[0m     \u001b[0mms\u001b[0m \u001b[1;33m=\u001b[0m \u001b[0mms\u001b[0m \u001b[1;32mif\u001b[0m \u001b[0mms\u001b[0m \u001b[1;33m>\u001b[0m \u001b[1;36m2\u001b[0m \u001b[1;32melse\u001b[0m \u001b[1;36m0.\u001b[0m\u001b[1;33m\u001b[0m\u001b[0m\n\u001b[0;32m    234\u001b[0m \u001b[1;33m\u001b[0m\u001b[0m\n\u001b[1;32m--> 235\u001b[1;33m     \u001b[0mpylab\u001b[0m\u001b[1;33m.\u001b[0m\u001b[0mhold\u001b[0m\u001b[1;33m(\u001b[0m\u001b[1;32mTrue\u001b[0m\u001b[1;33m)\u001b[0m\u001b[1;33m\u001b[0m\u001b[0m\n\u001b[0m\u001b[0;32m    236\u001b[0m     \u001b[0mymax\u001b[0m\u001b[1;33m,\u001b[0m \u001b[0mymin\u001b[0m \u001b[1;33m=\u001b[0m \u001b[1;32mNone\u001b[0m\u001b[1;33m,\u001b[0m \u001b[1;32mNone\u001b[0m\u001b[1;33m\u001b[0m\u001b[0m\n\u001b[0;32m    237\u001b[0m     \u001b[1;32mfor\u001b[0m \u001b[0my\u001b[0m\u001b[1;33m,\u001b[0m \u001b[0mlabel\u001b[0m \u001b[1;32min\u001b[0m \u001b[0mgdata\u001b[0m\u001b[1;33m:\u001b[0m\u001b[1;33m\u001b[0m\u001b[0m\n",
      "\u001b[1;31mAttributeError\u001b[0m: module 'pylab' has no attribute 'hold'"
     ]
    },
    {
     "data": {
      "image/png": "[encoded data removed]",
      "text/plain": [
       "<Figure size 931.68x576 with 1 Axes>"
      ]
     },
     "metadata": {
      "needs_background": "light"
     },
     "output_type": "display_data"
    }
   ],
   "source": [
    "from ahkab import new_ac, run\n",
    "from ahkab.circuit import Circuit\n",
    "from ahkab.plotting import plot_results # calls matplotlib for you\n",
    "import numpy as np\n",
    "\n",
    "# Define the circuit\n",
    "cir = Circuit('lowpass filter')\n",
    "cir.add_vsource('V1', 'n1', cir.gnd, dc_value=0., ac_value=1.)\n",
    "cir.add_resistor('R1', 'n1', 'n2', 1)\n",
    "cir.add_capacitor('C1', 'n2', cir.gnd, 1)\n",
    "\n",
    "\n",
    "# Define the analysis\n",
    "ac1 = new_ac(2.*np.pi*1e-2, 2.*np.pi*1e1, 100, x0=None)\n",
    "\n",
    "# run it\n",
    "res = run(cir, ac1)\n",
    "\n",
    "# plot the results\n",
    "plot_results('Lowpass', [('|Vn2|',\"\")], res['ac'],\n",
    "             outfilename='lowpass.png')"
   ]
  },
  {
   "cell_type": "code",
   "execution_count": 2,
   "metadata": {
    "ExecuteTime": {
     "end_time": "2019-05-17T02:36:13.995944Z",
     "start_time": "2019-05-17T02:36:13.933446Z"
    }
   },
   "outputs": [
    {
     "ename": "ImportError",
     "evalue": "No module named 'cirq'",
     "output_type": "error",
     "traceback": [
      "\u001b[1;31m---------------------------------------------------------------------------\u001b[0m",
      "\u001b[1;31mImportError\u001b[0m                               Traceback (most recent call last)",
      "\u001b[1;32m<ipython-input-2-0151f9544da6>\u001b[0m in \u001b[0;36m<module>\u001b[1;34m\u001b[0m\n\u001b[1;32m----> 1\u001b[1;33m \u001b[1;32mimport\u001b[0m \u001b[0mcirq\u001b[0m\u001b[1;33m;\u001b[0m \u001b[0mcirq\u001b[0m\u001b[1;33m.\u001b[0m\u001b[0minit_js\u001b[0m\u001b[1;33m(\u001b[0m\u001b[1;33m)\u001b[0m\u001b[1;33m\u001b[0m\u001b[0m\n\u001b[0m",
      "\u001b[1;31mImportError\u001b[0m: No module named 'cirq'"
     ]
    }
   ],
   "source": [
    "import cirq; cirq.init_js()"
   ]
  },
  {
   "cell_type": "code",
   "execution_count": 74,
   "metadata": {},
   "outputs": [],
   "source": [
    "net = cirq.Domain(name=\"net\", causal=False)\n",
    "n = cirq.Port(name=\"n\", domain=net, direction=\"inout\")\n",
    "p = cirq.Port(name=\"p\", domain=net, direction=\"inout\")\n",
    "vsource = cirq.ComponentType(name=\"VoltageSource\", \n",
    "                             ports=cirq.clone_ports([p, n]), \n",
    "                             parameters=[\"dc_value\", \"ac_value\"])\n",
    "resistor = cirq.ComponentType(name=\"Resistor\",\n",
    "                              ports = cirq.clone_ports([p, n]),\n",
    "                              parameters=[\"value\"])\n",
    "capacitor = cirq.ComponentType(name=\"Capacitor\",\n",
    "                              ports = cirq.clone_ports([p, n]),\n",
    "                              parameters=[\"value\"])"
   ]
  },
  {
   "cell_type": "markdown",
   "metadata": {},
   "source": [
    "## Start building circuit with cirq"
   ]
  },
  {
   "cell_type": "code",
   "execution_count": 75,
   "metadata": {},
   "outputs": [],
   "source": [
    "lowpass = cirq.CircuitBuilder([net], [vsource, resistor, capacitor], cirq.Circuit(name=\"LowPass\"))\n",
    "lowpass"
   ]
  },
  {
   "cell_type": "markdown",
   "metadata": {},
   "source": [
    "## Customization of component symbol"
   ]
  },
  {
   "cell_type": "code",
   "execution_count": 106,
   "metadata": {},
   "outputs": [],
   "source": [
    "lowpass.circuit.c.R1._inner_svg =\"\"\"\n",
    "<path \n",
    "    d=\"M 0 -40 l 0 10 l -5 5 \n",
    "        l 10 10 l -10 10 l 10 10 l -10 10 l 10 10 \n",
    "        l -5 5 L 0 40\" \n",
    "    stroke=\"black\"\n",
    "    stroke-width=\"2px\"\n",
    "    fill=\"none\"/>\n",
    "\"\"\"\n",
    "lowpass.circuit.c.R1._x_label=20\n",
    "lowpass.circuit.c.R1._label_color = \"black\"\n",
    "\n",
    "\n",
    "\n",
    "lowpass.circuit.c.R1.p.p._x = 0\n",
    "lowpass.circuit.c.R1.p.p._y = 40\n",
    "lowpass.circuit.c.R1.p.p._phi = pi/2.\n",
    "\n",
    "\n",
    "lowpass.circuit.c.R1.p.n._x = 0\n",
    "lowpass.circuit.c.R1.p.n._y = -40\n",
    "lowpass.circuit.c.R1.p.n._phi = -pi/2.\n",
    "\n"
   ]
  },
  {
   "cell_type": "code",
   "execution_count": 107,
   "metadata": {},
   "outputs": [],
   "source": [
    "# reset \n",
    "lowpass.circuit.c.R1._inner_svg = \"\"\n",
    "lowpass.circuit.c.R1._x_label=0\n",
    "lowpass.circuit.c.R1._label_color = \"white\"\n",
    "lowpass.circuit.c.R1.layout_ports(lowpass.circuit.c.R1.ports)"
   ]
  },
  {
   "cell_type": "markdown",
   "metadata": {},
   "source": [
    "## General code to translate all circuit involving voltage sources, resistors and capacitors"
   ]
  },
  {
   "cell_type": "code",
   "execution_count": 105,
   "metadata": {},
   "outputs": [],
   "source": [
    "def translate_to_ahkab(circuit):\n",
    "    \"\"\"\n",
    "    Convert a cirq Circuit representation into an ahkab model.\n",
    "    \"\"\"\n",
    "    \n",
    "    \n",
    "    ret = Circuit(circuit.name.encode(\"ascii\", \"ignore\"))\n",
    "\n",
    "    # find groups/cliques of connected ports, treat GND specially\n",
    "    nets = {circuit.p.GND: (0, set([circuit.p.GND]))}\n",
    "    # each entry of nets has as the key the overall port within the circuit\n",
    "    # and as value a tuple of a number identifying the clique/group \n",
    "    # and a set containing all other members\n",
    "    \n",
    "    \n",
    "    nk = 1\n",
    "    nets_by_nk = {}\n",
    "    \n",
    "    # add other external ports\n",
    "    for p in circuit.ports:\n",
    "        if p.name == \"GND\":\n",
    "            continue\n",
    "        nets[p] = (nk, set([p]))\n",
    "        nk += 1\n",
    "\n",
    "    # add internal ports\n",
    "    for c in circuit.component_instances:\n",
    "        for p in c.ports:\n",
    "            nets[p] = (nk, set([p]))\n",
    "            nk +=1\n",
    "\n",
    "    # resolve connections\n",
    "    for c in circuit.connections:\n",
    "        # source and target are of same clique, so combine them\n",
    "        s, t = c.source, c.target\n",
    "        (ns, pss), (nt, pts) = nets[s], nets[t]\n",
    "        \n",
    "        mn = min(ns, nt)\n",
    "        ma = max(ns, nt)\n",
    "        clique = pss | pts\n",
    "        for pp in clique:\n",
    "            # for all members of the clique, \n",
    "            # set the net index to the lowest possible index\n",
    "            # store all members of the clique\n",
    "            nets[pp] = mn, clique\n",
    "            \n",
    "        nets_by_nk[mn] = clique\n",
    "        if ns != nt and ma in nets_by_nk:\n",
    "            del nets_by_nk[ma]\n",
    "            \n",
    "    # extend this to allow for more components!        \n",
    "    methods = {\n",
    "                vsource: ret.add_vsource,\n",
    "                resistor: ret.add_resistor,\n",
    "                capacitor: ret.add_capacitor\n",
    "            }\n",
    "    \n",
    "    # find which nets are connected to non-GND external ports\n",
    "    ext = {p: \"n{}\".format(nets[p][0]) for p in circuit.ports if p is not circuit.p.GND}\n",
    "    \n",
    "    # create ahkab object\n",
    "    for c in circuit.component_instances:\n",
    "        nn = []\n",
    "        for p in c.ports:\n",
    "            if nets[p][0] == 0: # connected to gnd\n",
    "                nn.append(ret.gnd)\n",
    "            else:\n",
    "                nn.append(\"n{}\".format(nets[p][0]))\n",
    "        methods[c.ctype](c.name.encode(\"ascii\", \"ignore\"), nn[0], nn[1], **c.param_assignments)\n",
    "\n",
    "    return ret, ext, nets_by_nk\n",
    "                \n",
    "    "
   ]
  },
  {
   "cell_type": "markdown",
   "metadata": {},
   "source": [
    "## Recompute transfer function for cirq circuit"
   ]
  },
  {
   "cell_type": "code",
   "execution_count": 77,
   "metadata": {},
   "outputs": [],
   "source": [
    "def analyze(RR = 1., CC = 1.):\n",
    "    lowpass.circuit.c.R1.param_assignments = dict(value=RR)\n",
    "    lowpass.circuit.c.C1.param_assignments = dict(value=CC)\n",
    "    lowpass.circuit.c.V1.param_assignments = dict(dc_value=0., ac_value=1)\n",
    "    cir2, ext, nets = translate_to_ahkab(lowpass.circuit)\n",
    "    # Define the analysis\n",
    "    ac1 = new_ac(2.*np.pi*1e-2, 2.*np.pi*1e1, 100, x0=None)\n",
    "\n",
    "    # run it\n",
    "    res2 = run(cir2, ac1)\n",
    "\n",
    "    OUT_index = '|V{}|'.format(ext[lowpass.circuit.p.OUT]).encode(\"ascii\", \"ignore\")\n",
    "\n",
    "    # plot the results\n",
    "    plot_results('Lowpass', [(OUT_index,\"\")], res2['ac'],\n",
    "                 outfilename='lowpass.png')\n"
   ]
  },
  {
   "cell_type": "code",
   "execution_count": 78,
   "metadata": {},
   "outputs": [
    {
     "data": {
      "image/png": "[encoded data removed]",
      "text/plain": [
       "<matplotlib.figure.Figure at 0x10e9e1250>"
      ]
     },
     "metadata": {},
     "output_type": "display_data"
    }
   ],
   "source": [
    "from IPython.html.widgets import interact\n",
    "interact(analyze,\n",
    "         RR = (.5, 1.5, .1), \n",
    "         CC = (.5, 1.5, .1))"
   ]
  },
  {
   "cell_type": "code",
   "execution_count": null,
   "metadata": {},
   "outputs": [],
   "source": []
  }
 ],
 "metadata": {
  "kernelspec": {
   "display_name": "Python 3",
   "language": "python",
   "name": "python3"
  },
  "language_info": {
   "codemirror_mode": {
    "name": "ipython",
    "version": 3
   },
   "file_extension": ".py",
   "mimetype": "text/x-python",
   "name": "python",
   "nbconvert_exporter": "python",
   "pygments_lexer": "ipython3",
   "version": "3.5.4"
  }
 },
 "nbformat": 4,
 "nbformat_minor": 1
}
